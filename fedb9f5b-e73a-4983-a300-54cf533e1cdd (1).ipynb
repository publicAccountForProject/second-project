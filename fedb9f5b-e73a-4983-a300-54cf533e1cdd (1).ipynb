{
 "cells": [
  {
   "cell_type": "markdown",
   "metadata": {
    "toc": true
   },
   "source": [
    "<h1>Содержание<span class=\"tocSkip\"></span></h1>\n",
    "<div class=\"toc\"><ul class=\"toc-item\"><li><span><a href=\"#Подготовка-данных\" data-toc-modified-id=\"Подготовка-данных-1\"><span class=\"toc-item-num\">1&nbsp;&nbsp;</span>Подготовка данных</a></span></li><li><span><a href=\"#Исследование-задачи\" data-toc-modified-id=\"Исследование-задачи-2\"><span class=\"toc-item-num\">2&nbsp;&nbsp;</span>Исследование задачи</a></span></li><li><span><a href=\"#Борьба-с-дисбалансом\" data-toc-modified-id=\"Борьба-с-дисбалансом-3\"><span class=\"toc-item-num\">3&nbsp;&nbsp;</span>Борьба с дисбалансом</a></span></li><li><span><a href=\"#Тестирование-модели\" data-toc-modified-id=\"Тестирование-модели-4\"><span class=\"toc-item-num\">4&nbsp;&nbsp;</span>Тестирование модели</a></span></li></ul></div>"
   ]
  },
  {
   "cell_type": "markdown",
   "metadata": {},
   "source": [
    "# Отток клиентов"
   ]
  },
  {
   "cell_type": "markdown",
   "metadata": {},
   "source": [
    "Из «Бета-Банка» стали уходить клиенты. Каждый месяц. Немного, но заметно. Банковские маркетологи посчитали: сохранять текущих клиентов дешевле, чем привлекать новых.\n",
    "\n",
    "Нужно спрогнозировать, уйдёт клиент из банка в ближайшее время или нет. Вам предоставлены исторические данные о поведении клиентов и расторжении договоров с банком. \n",
    "\n",
    "Постройте модель с предельно большим значением *F1*-меры. Чтобы сдать проект успешно, нужно довести метрику до 0.59. Проверьте *F1*-меру на тестовой выборке самостоятельно.\n",
    "\n",
    "Дополнительно измеряйте *AUC-ROC*, сравнивайте её значение с *F1*-мерой.\n",
    "\n",
    "Источник данных: [https://www.kaggle.com/barelydedicated/bank-customer-churn-modeling](https://www.kaggle.com/barelydedicated/bank-customer-churn-modeling)"
   ]
  },
  {
   "cell_type": "markdown",
   "metadata": {},
   "source": [
    "## Подготовка данных"
   ]
  },
  {
   "cell_type": "code",
   "execution_count": null,
   "metadata": {},
   "outputs": [],
   "source": [
    "#импорт модулей\n",
    "import pandas as pd \n",
    "import matplotlib.pyplot as plt\n",
    "import seaborn as sns\n",
    "import numpy as np\n",
    "\n",
    "from sklearn.utils import shuffle\n",
    "from sklearn.metrics import f1_score\n",
    "from sklearn.model_selection import train_test_split\n",
    "from sklearn.linear_model import LinearRegression\n",
    "from sklearn.tree import DecisionTreeRegressor\n",
    "from sklearn.ensemble import RandomForestRegressor\n",
    "from sklearn.preprocessing import StandardScaler \n",
    "from sklearn.metrics import roc_auc_score, roc_curve, accuracy_score\n",
    "from sklearn.linear_model import LogisticRegression\n",
    "from sklearn.tree import DecisionTreeClassifier\n",
    "from sklearn.ensemble import RandomForestClassifier\n",
    "from sklearn.dummy import DummyClassifier\n",
    "from sklearn.preprocessing import OneHotEncoder\n",
    "from sklearn.compose import ColumnTransformer, get_feature_names_out #make_column_transformer"
   ]
  },
  {
   "cell_type": "code",
   "execution_count": null,
   "metadata": {},
   "outputs": [],
   "source": [
    "#загрузка данных\n",
    "df = pd.read_csv('/datasets/Churn.csv', header = 0) "
   ]
  },
  {
   "cell_type": "markdown",
   "metadata": {},
   "source": [
    "Сохраним датасет в переменную df при помощи метода read_csv и выведем первые пять строк таблицы:"
   ]
  },
  {
   "cell_type": "code",
   "execution_count": null,
   "metadata": {},
   "outputs": [],
   "source": [
    "#первые 5 строк \n",
    "df.head()"
   ]
  },
  {
   "cell_type": "markdown",
   "metadata": {},
   "source": [
    "Признаки\n",
    "- RowNumber — индекс строки в данных\n",
    "- CustomerId — уникальный идентификатор клиента\n",
    "- Surname — фамилия\n",
    "- CreditScore — кредитный рейтинг\n",
    "- Geography — страна проживания\n",
    "-Gender — пол\n",
    "-Age — возраст\n",
    "-Tenure — сколько лет человек является клиентом банка\n",
    "-Balance — баланс на счёте\n",
    "-NumOfProducts — количество продуктов банка, используемых клиентом\n",
    "-HasCrCard — наличие кредитной карты\n",
    "-IsActiveMember — активность клиента\n",
    "-EstimatedSalary — предполагаемая зарплата\n",
    "\n",
    "\n",
    "-Целевой признак\n",
    "-Exited — факт ухода клиента"
   ]
  },
  {
   "cell_type": "code",
   "execution_count": null,
   "metadata": {},
   "outputs": [],
   "source": [
    "#Математическое описание значений по всей выборке\n",
    "display(df.describe())"
   ]
  },
  {
   "cell_type": "markdown",
   "metadata": {},
   "source": [
    "Возраст Age от 18 до 92, а баланс Balance от 0 до 250,000+ рублей. Из-за этого модель может посчитать, что баланс важнее возраста. \n",
    "Так как нам важны оба признака, применим нормализацию в следующей части исследования."
   ]
  },
  {
   "cell_type": "code",
   "execution_count": null,
   "metadata": {},
   "outputs": [],
   "source": [
    "#Математическое описание значений для неактивных клиентов\n",
    "display(df[df['IsActiveMember'] == 0].describe())"
   ]
  },
  {
   "cell_type": "markdown",
   "metadata": {},
   "source": [
    "Видим, что неактивны клиенты со средним возрастом в 37 лет(25 - 75 перцентиль состоит из возраста 32 - 43 года), состоявшиеся в работе клиенты (медиана зарплаты 100,000), половина из них имела лишь по одному банковскому продукту (50 перцентиль = 1), с кредитным рейтингом выше среднего (средний 650), и с медианным балансом в $1000.\n",
    "\n",
    "В нашей выборке из 10,000 клиентов почти половина (4849) перестали быть активными. "
   ]
  },
  {
   "cell_type": "code",
   "execution_count": null,
   "metadata": {},
   "outputs": [],
   "source": [
    "#выгрузил пропуски, нашел долю пропусков от общего кол-ва значений\n",
    "print(((df.isna().sum()/len(df)*100).round(2)).sort_values())"
   ]
  },
  {
   "cell_type": "markdown",
   "metadata": {},
   "source": [
    "9% пропусков есть только в столбце Tenure: \"сколько лет человек является клиентом банка\". Так как значений не много, строки  пропущенными значениями:\n",
    "- можно удалить эти строки \n",
    "- заменить пропущенное значение на определенное значение на значение из следующей строки, df['Tenure'] = df['Tenure'].fillna(method='bfill')\n",
    "- заменить пропущенное значение на определенное значение на 0, этот способ и применим \n",
    "- заменить пропущенное значение  на медианное значение, расчитанное в зависимости от пола и возраста"
   ]
  },
  {
   "cell_type": "code",
   "execution_count": null,
   "metadata": {},
   "outputs": [],
   "source": [
    "df.fillna(0, inplace=True)"
   ]
  },
  {
   "cell_type": "code",
   "execution_count": null,
   "metadata": {},
   "outputs": [],
   "source": [
    "print('Количество пропущенных значений для Tenure:', df['Tenure'].isna().sum())"
   ]
  },
  {
   "cell_type": "code",
   "execution_count": null,
   "metadata": {},
   "outputs": [],
   "source": [
    "#Дублей в таблице при построчном сравнении нет\n",
    "display(df.duplicated().sum())"
   ]
  },
  {
   "cell_type": "code",
   "execution_count": null,
   "metadata": {},
   "outputs": [],
   "source": [
    "#Дублей по уникальным id клиентов нет\n",
    "display(df['CustomerId'].duplicated().sum())"
   ]
  },
  {
   "cell_type": "code",
   "execution_count": null,
   "metadata": {},
   "outputs": [],
   "source": [
    "#Информация о колонках и типах переменных\n",
    "df.info()"
   ]
  },
  {
   "cell_type": "markdown",
   "metadata": {},
   "source": [
    "Всего в таблице 10000 записей, при этом типы переменных в колонках соответствуют данным.\n",
    "\n",
    "Удалим из таблицы столбец RowNumber, отражающий индекс строки в данных, так как он не содержит никакой полезной информации, при этом лишняя информация может негативно повлиять на адекватность и результативность модели.\n",
    "\n",
    "Также на время подготовки данных к построению модели мы можем исключить из таблицы столбцы CustomerId, Surname, так как ни уникальный идентификатор клиента, ни фамилия не влияют на отношения банка и клиентов."
   ]
  },
  {
   "cell_type": "code",
   "execution_count": null,
   "metadata": {},
   "outputs": [],
   "source": [
    "#Удаляю не важные для исследования столбцы\n",
    "df.drop([\"RowNumber\", \"CustomerId\", \"Surname\"], axis=1, inplace=True)"
   ]
  },
  {
   "cell_type": "markdown",
   "metadata": {},
   "source": [
    "Чтобы избежать мультиколлинеарность, посмотрим наколько сильно зависимы друг от друга числовые значения. Создадим список числовых значений, исключив столбцы с категориальными значениями."
   ]
  },
  {
   "cell_type": "code",
   "execution_count": null,
   "metadata": {},
   "outputs": [],
   "source": [
    "numeric = ['CreditScore','Age','Balance','NumOfProducts','EstimatedSalary','Tenure']"
   ]
  },
  {
   "cell_type": "markdown",
   "metadata": {},
   "source": [
    "Расчитаем значение кореляции для стобцов, указанных выше."
   ]
  },
  {
   "cell_type": "code",
   "execution_count": null,
   "metadata": {
    "scrolled": true
   },
   "outputs": [],
   "source": [
    "df.loc[:, numeric].corr()"
   ]
  },
  {
   "cell_type": "markdown",
   "metadata": {},
   "source": [
    "Сильной корреляционной зависимости не обнаружено, максимальное значение 0.3, дополнительного удаления данных не потребуется."
   ]
  },
  {
   "cell_type": "markdown",
   "metadata": {},
   "source": [
    "В этой части проекта мы:\n",
    "- проанализировал признаки\n",
    "- удалили столбцы с избыточной для построения и обучения модели информацией ('RowNumber', 'CustomerId', 'Surname')\n",
    "- нашли и заполнили пропуски в столбце 'Tenure'"
   ]
  },
  {
   "cell_type": "markdown",
   "metadata": {},
   "source": [
    "## Исследование задачи"
   ]
  },
  {
   "cell_type": "markdown",
   "metadata": {},
   "source": [
    "Деление на обучающую, валидационную и тестовую выборки"
   ]
  },
  {
   "cell_type": "code",
   "execution_count": null,
   "metadata": {},
   "outputs": [],
   "source": [
    "# Данные подготовим методом OHE, что позволит нам использовать разные модели и не словить дамми ловушку\n",
    "df_ml = pd.get_dummies(df, drop_first=True)\n",
    "df_ml.head()"
   ]
  },
  {
   "cell_type": "code",
   "execution_count": null,
   "metadata": {},
   "outputs": [],
   "source": [
    "target = df_ml['Exited']\n",
    "\n",
    "features = df_ml.drop('Exited', axis=1)"
   ]
  },
  {
   "cell_type": "code",
   "execution_count": null,
   "metadata": {},
   "outputs": [],
   "source": [
    "#разобьем на тестовую выборку (25%) для проверки итоговой модели и тренировочно-валидационную выборку для обучения и \n",
    "#поиска лучшей можели\n",
    "\n",
    "features_valid_train, features_test, target_valid_train, target_test = train_test_split(\n",
    "    features, target, test_size=0.25, random_state=12345, stratify=target\n",
    ")\n",
    "print(f\"Количество строк в y_train_val по классам: {np.bincount(target_valid_train)}\")\n",
    "print(f\"Количество строк в y_test по классам: {np.bincount(target_test)}\")\n",
    "\n",
    "#X_train_val, X_test, y_train_val, y_test = train_test_split(\n",
    "#    features, target, test_size=0.25, random_state=12345)\n",
    "#print(f\"Количество строк в y_train_val по классам: {np.bincount(y_train_val)}\")\n",
    "#print(f\"Количество строк в y_test по классам: {np.bincount(y_test)}\")"
   ]
  },
  {
   "cell_type": "code",
   "execution_count": null,
   "metadata": {
    "scrolled": true
   },
   "outputs": [],
   "source": [
    "features_train, features_valid, target_train, target_valid = train_test_split(\n",
    "    features_valid_train, target_valid_train, test_size=0.25, \n",
    "    random_state=12345, stratify=target_valid_train)\n",
    "\n",
    "print(f\"Количество строк в y_train по классам: {np.bincount(target_train)}\")\n",
    "print(f\"Количество строк в y_val по классам: {np.bincount(target_valid)}\")\n",
    "\n",
    "#features_train, features_valid, target_train, target_valid = train_test_split(\n",
    "#    X_train_val, y_train_val, test_size=0.25, random_state=12345)\n",
    "\n",
    "#print(f\"Количество строк в y_train по классам: {np.bincount(target_train)}\")\n",
    "#print(f\"Количество строк в y_val по классам: {np.bincount(target_valid)}\")"
   ]
  },
  {
   "cell_type": "code",
   "execution_count": null,
   "metadata": {},
   "outputs": [],
   "source": [
    "#Для масштабирования методом scaler зафиксируем численные признаки\n",
    "numeric = ['CreditScore', 'Age', 'Tenure', 'Balance', 'NumOfProducts', 'EstimatedSalary']"
   ]
  },
  {
   "cell_type": "code",
   "execution_count": null,
   "metadata": {},
   "outputs": [],
   "source": [
    "scaler = StandardScaler()\n",
    "scaler.fit(features_train[numeric])"
   ]
  },
  {
   "cell_type": "code",
   "execution_count": null,
   "metadata": {},
   "outputs": [],
   "source": [
    "#Масштабируем числ признаки обучающей выборки\n",
    "features_train[numeric] = scaler.transform(features_train[numeric])\n",
    "features_train.head()"
   ]
  },
  {
   "cell_type": "code",
   "execution_count": null,
   "metadata": {},
   "outputs": [],
   "source": [
    "#Масштабируем численные признаки валидационной выборки \n",
    "features_valid[numeric] = scaler.transform(features_valid[numeric])\n",
    "features_valid.head()"
   ]
  },
  {
   "cell_type": "code",
   "execution_count": null,
   "metadata": {},
   "outputs": [],
   "source": [
    "#Масштабируем численные признаки тестовой выборки \n",
    "features_test[numeric] = scaler.transform(features_test[numeric])\n",
    "features_test.head()"
   ]
  },
  {
   "cell_type": "code",
   "execution_count": null,
   "metadata": {},
   "outputs": [],
   "source": [
    "def all_models_f1accuracy(features_train, target_train, features_valid, target_valid):\n",
    "    model_DTC = DecisionTreeClassifier(random_state=12345)\n",
    "    DTC_fit = model_DTC.fit(features_train, target_train)\n",
    "    DTC_predictions_valid = model_DTC.predict(features_valid)\n",
    "    DTC_f1score= f1_score(target_valid, DTC_predictions_valid)\n",
    "    \n",
    "    model_RFC = RandomForestClassifier(max_depth=7, n_estimators=43, min_samples_leaf=3, random_state=12345)\n",
    "    RFC_fit = model_RFC.fit(features_train, target_train)\n",
    "    RFC_predictions_valid = model_RFC.predict(features_valid)\n",
    "    RFC_f1score= f1_score(target_valid, RFC_predictions_valid)\n",
    "    \n",
    "    model_LgR = LogisticRegression(solver = 'liblinear')\n",
    "    LgR_fit = model_LgR.fit(features_train, target_train)\n",
    "    LgR_predictions_valid = model_LgR.predict(features_valid)\n",
    "    LgR_f1score= f1_score(target_valid, LgR_predictions_valid)\n",
    "    \n",
    "    print(\"F1 score: \", \"дерево решений\", DTC_f1score, \"случайный лес \", RFC_f1score, \"логистческая регрессия\", LgR_f1score,  sep='\\n')"
   ]
  },
  {
   "cell_type": "code",
   "execution_count": null,
   "metadata": {},
   "outputs": [],
   "source": [
    "all_models_f1accuracy(features_train, target_train, features_valid, target_valid)"
   ]
  },
  {
   "cell_type": "code",
   "execution_count": null,
   "metadata": {},
   "outputs": [],
   "source": [
    "target_train.value_counts(normalize = 1)"
   ]
  },
  {
   "cell_type": "code",
   "execution_count": null,
   "metadata": {},
   "outputs": [],
   "source": [
    "# Данные подготовим методом OHE, что позволит нам использовать разные модели и не словить дамми ловушку\n",
    "df_ml = pd.get_dummies(df, drop_first=True)\n",
    "df_ml.head()"
   ]
  },
  {
   "cell_type": "code",
   "execution_count": null,
   "metadata": {},
   "outputs": [],
   "source": [
    "transformer = make_column_transformer(\n",
    "    (OneHotEncoder(), ['Geography', 'Gender']),\n",
    "    remainder='passthrough')\n",
    "transformed = transformer.fit_transform(features_test_nc)\n",
    "features_test = pd.DataFrame(transformed, columns=transformer.get_feature_names_out())\n",
    "display(features_test.head())"
   ]
  },
  {
   "cell_type": "code",
   "execution_count": null,
   "metadata": {},
   "outputs": [],
   "source": [
    "transformer = make_column_transformer(\n",
    "    (OneHotEncoder(), ['Geography', 'Gender']),\n",
    "    remainder='passthrough')\n",
    "transformed = transformer.fit_transform(X_test)\n",
    "features_test = pd.DataFrame(transformed, columns=transformer.get_feature_names_out())\n",
    "display(features_test.head())"
   ]
  },
  {
   "cell_type": "markdown",
   "metadata": {},
   "source": [
    "Onehot encoding"
   ]
  },
  {
   "cell_type": "markdown",
   "metadata": {},
   "source": [
    "В таблице практически все столбцы, кроме Gender и Geography - количественные. Нам нужно построить модель, которая будет решать задачу классификации (уйдет клиент или нет). Применим технику прямого кодирования, чтобы преобразовать категориальные переменные в количественные.\n",
    "Для избежания дамми-ловушки, удалим изначальный столбец drop_first=True"
   ]
  },
  {
   "cell_type": "code",
   "execution_count": null,
   "metadata": {},
   "outputs": [],
   "source": [
    "#преобразую категориальные переменные в количественные\n",
    "features_train = pd.get_dummies(features_train, drop_first=True, sparse = False)\n",
    "features_valid = pd.get_dummies(features_valid, drop_first=True, sparse = False)\n",
    "X_test = pd.get_dummies(X_test, drop_first=True, sparse = False)\n",
    "\n",
    "#удаляю изначальные столбцы\n",
    "#features_train.drop([\"Gender\", \"Geography\"], axis=1, inplace=True)\n",
    "#features_valid.drop([\"Gender\", \"Geography\"], axis=1, inplace=True)\n",
    "#X_test.drop([\"Gender\", \"Geography\"], axis=1, inplace=True)\n",
    "\n",
    "#конкатенация \n",
    "#features_train = pd.concat([features_train, features_train_one_hot_gender], axis=1)\n",
    "#features_valid = pd.concat([features_valid, features_valid_one_hot_gender], axis=1)\n",
    "#X_test = pd.concat([X_test, X_test_one_hot_gender], axis=1)"
   ]
  },
  {
   "cell_type": "markdown",
   "metadata": {},
   "source": [
    "#преобразую категориальные переменные в количественные\n",
    "features_train_one_hot_gender = pd.get_dummies(features_train[\"Gender\"], drop_first=True)\n",
    "features_train_one_hot_geography = pd.get_dummies(features_train[\"Geography\"], drop_first=True)\n",
    "\n",
    "features_valid_one_hot_gender = pd.get_dummies(features_valid[\"Gender\"], drop_first=True)\n",
    "features_valid_one_hot_geography = pd.get_dummies(features_valid[\"Geography\"], drop_first=True)\n",
    "\n",
    "X_test_one_hot_gender = pd.get_dummies(X_test[\"Gender\"], drop_first=True)\n",
    "X_test_one_hot_geography = pd.get_dummies(X_test[\"Geography\"], drop_first=True)\n",
    "\n",
    "#удаляю изначальные столбцы\n",
    "#features_train.drop([\"Gender\", \"Geography\"], axis=1, inplace=True)\n",
    "#features_valid.drop([\"Gender\", \"Geography\"], axis=1, inplace=True)\n",
    "#X_test.drop([\"Gender\", \"Geography\"], axis=1, inplace=True)\n",
    "\n",
    "#конкатенация \n",
    "features_train = pd.concat([features_train, features_train_one_hot_gender, features_train_one_hot_geography], axis=1)\n",
    "features_valid = pd.concat([features_valid, features_valid_one_hot_gender, features_valid_one_hot_geography], axis=1)\n",
    "X_test = pd.concat([X_test, X_test_one_hot_gender, X_test_one_hot_geography], axis=1)"
   ]
  },
  {
   "cell_type": "markdown",
   "metadata": {},
   "source": [
    "scaler"
   ]
  },
  {
   "cell_type": "code",
   "execution_count": null,
   "metadata": {},
   "outputs": [],
   "source": [
    "#убрал предупреждение\n",
    "pd.options.mode.chained_assignment = None\n",
    "\n",
    "#привел поля ниже у диапазону 0-1, т.к. все признаки важны\n",
    "scaler = StandardScaler()\n",
    "scaler.fit(features_train)\n",
    "\n",
    "features_train = scaler.transform(features_train)\n",
    "features_valid = scaler.transform(features_valid)\n",
    "X_test = scaler.transform(X_test)"
   ]
  },
  {
   "cell_type": "code",
   "execution_count": null,
   "metadata": {},
   "outputs": [],
   "source": [
    "features_train = pd.DataFrame(features_train)\n",
    "features_valid = pd.DataFrame(features_valid)\n",
    "\n",
    "target_train = pd.DataFrame(target_train)\n",
    "target_valid = pd.DataFrame(target_valid)\n",
    "\n",
    "X_test = pd.DataFrame(X_test)\n",
    "y_test = pd.DataFrame(y_test)"
   ]
  },
  {
   "cell_type": "code",
   "execution_count": null,
   "metadata": {},
   "outputs": [],
   "source": [
    "#Узнаем долю ушедших клиентов от всей выборки. Доля положительных объектов класса\n",
    "sum(df[\"Exited\"]/len(df))"
   ]
  },
  {
   "cell_type": "code",
   "execution_count": null,
   "metadata": {},
   "outputs": [],
   "source": [
    "#Доля оставшихся клиентов от всей выборки.  Доля отрицательных объектов класса\n",
    "1 - sum(df[\"Exited\"]/len(df))"
   ]
  },
  {
   "cell_type": "markdown",
   "metadata": {},
   "source": [
    "Доля положительного класса намного больше. Выборка не сбалансирована"
   ]
  },
  {
   "cell_type": "markdown",
   "metadata": {},
   "source": [
    "Построим модели на несбалансированных данных "
   ]
  },
  {
   "cell_type": "code",
   "execution_count": null,
   "metadata": {},
   "outputs": [],
   "source": [
    "col = ['n_estimators', 'f1_score', 'auc_roc']\n",
    "data = []\n",
    "\n",
    "for est in range(1, 100):\n",
    "    model = RandomForestClassifier(random_state=12345, n_estimators=est) \n",
    "    model.fit(features_train,target_train) \n",
    "    predictions = model.predict(features_valid)\n",
    "    f1 = f1_score(target_valid, predictions)\n",
    "    probabilities_valid = model.predict_proba(features_valid)\n",
    "    probabilities_one_valid = probabilities_valid[:, 1]\n",
    "    auc_roc = roc_auc_score(target_valid, probabilities_one_valid)\n",
    "    data.append([est, f1, auc_roc])\n",
    "table = pd.DataFrame(data = data, columns=col)\n",
    "display(table[table['f1_score']==table['f1_score'].max()]) \n",
    "display(table[table['auc_roc']==table['auc_roc'].max()])"
   ]
  },
  {
   "cell_type": "code",
   "execution_count": null,
   "metadata": {},
   "outputs": [],
   "source": [
    "model = LogisticRegression(random_state = 12345, solver='liblinear')\n",
    "model.fit(features_train,target_train)\n",
    "predicted_valid = model.predict(features_valid)\n",
    "\n",
    "print(\"Cреднее гармоническое полноты и точности F1:\", f1_score(target_valid, predicted_valid))"
   ]
  },
  {
   "cell_type": "markdown",
   "metadata": {},
   "source": [
    "В этой части проекта мы:\n",
    "- перевели столбцы с категориальными переменными в количественные ('Gender' и 'Geography')\n",
    "- разделили данные на обучающую, валидационную и тестовую выборки\n",
    "- обучили модель без учета дисбаланса "
   ]
  },
  {
   "cell_type": "markdown",
   "metadata": {},
   "source": [
    "<div class=\"alert alert-block alert-success\">\n",
    "<b>✔️ Успех:</b>\n",
    "\n",
    "Модели обучены корректно 👍\n",
    "</div>"
   ]
  },
  {
   "cell_type": "markdown",
   "metadata": {},
   "source": [
    "## Борьба с дисбалансом"
   ]
  },
  {
   "cell_type": "markdown",
   "metadata": {},
   "source": [
    "У нас два пути решения этой проблемы:\n",
    "\n",
    "- Upsampling\n",
    "- Downsampling\n",
    "- менять границу\n",
    "\n",
    "Реализуем все 2 способа поочередно"
   ]
  },
  {
   "cell_type": "markdown",
   "metadata": {},
   "source": [
    "upsample"
   ]
  },
  {
   "cell_type": "code",
   "execution_count": null,
   "metadata": {},
   "outputs": [],
   "source": [
    "#увелечим положительный класс\n",
    "#разделим обучающую выборку на отрицательные и положительные объекты     \n",
    "def upsample(features, target, repeat):\n",
    "    features_zeros = features[target == 0]\n",
    "    features_ones = features[target == 1]\n",
    "    target_zeros = target[target == 0]\n",
    "    target_ones = target[target == 1]\n",
    "\n",
    "    features_upsampled = pd.concat([features_zeros] + [features_ones] * repeat)\n",
    "    target_upsampled = pd.concat([target_zeros] + [target_ones] * repeat)\n",
    "    \n",
    "    features_upsampled, target_upsampled = shuffle(\n",
    "        features_upsampled, target_upsampled, random_state=12345)\n",
    "    \n",
    "    return features_upsampled, target_upsampled\n",
    "\n",
    "features_upsampled, target_upsampled = upsample(features_train, target_train, 4)\n",
    "\n",
    "#model = LogisticRegression(random_state = 12345, solver='liblinear')\n",
    "#model.fit(features_upsampled, target_upsampled)\n",
    "#predicted_valid = model.predict(features_valid)\n",
    "\n",
    "#print(\"Cреднее гармоническое полноты и точности F1:\", f1_score(target_valid, predicted_valid))"
   ]
  },
  {
   "cell_type": "code",
   "execution_count": null,
   "metadata": {},
   "outputs": [],
   "source": [
    "features_upsampled.head()"
   ]
  },
  {
   "cell_type": "code",
   "execution_count": null,
   "metadata": {},
   "outputs": [],
   "source": [
    "#источник https://scikit-learn.org/stable/modules/generated/sklearn.utils.resample.html \n",
    "from scipy.sparse import coo_matrix\n",
    "X_sparse = coo_matrix(features_upsampled)\n",
    "from sklearn.utils import resample\n",
    "features_upsampled, X_sparse, target_upsampled = resample(features_upsampled, X_sparse, target_upsampled, random_state=0)"
   ]
  },
  {
   "cell_type": "markdown",
   "metadata": {},
   "source": [
    "features_upsampled.head()"
   ]
  },
  {
   "cell_type": "code",
   "execution_count": null,
   "metadata": {},
   "outputs": [],
   "source": [
    "features_train.shape"
   ]
  },
  {
   "cell_type": "code",
   "execution_count": null,
   "metadata": {},
   "outputs": [],
   "source": [
    "features_upsampled.shape\n",
    "#было 5625 объектов, стало 8991 благодаря росту объектов положительного класса"
   ]
  },
  {
   "cell_type": "code",
   "execution_count": null,
   "metadata": {},
   "outputs": [],
   "source": [
    "def downsample(features, target, fraction):\n",
    "    features_zeros = features[target == 0]\n",
    "    features_ones = features[target == 1]\n",
    "    target_zeros = target[target == 0]\n",
    "    target_ones = target[target == 1]\n",
    "\n",
    "    features_downsampled = pd.concat(\n",
    "        [features_zeros.sample(frac=fraction, random_state=12345)] + [features_ones])\n",
    "    target_downsampled = pd.concat(\n",
    "        [target_zeros.sample(frac=fraction, random_state=12345)] + [target_ones])\n",
    "    \n",
    "    features_downsampled, target_downsampled = shuffle(\n",
    "        features_downsampled, target_downsampled, random_state=12345)\n",
    "    \n",
    "    return features_downsampled, target_downsampled\n",
    "\n",
    "features_downsampled, target_downsampled = downsample(features_train, target_train, 0.25)\n",
    "\n",
    "#model = LogisticRegression(random_state = 12345, solver='liblinear')\n",
    "#model.fit(features_downsampled, target_downsampled)\n",
    "#predicted_valid = model.predict(features_valid)\n",
    "\n",
    "#print(\"F1:\", f1_score(target_valid, predicted_valid))"
   ]
  },
  {
   "cell_type": "code",
   "execution_count": null,
   "metadata": {},
   "outputs": [],
   "source": [
    "features_downsampled.shape"
   ]
  },
  {
   "cell_type": "markdown",
   "metadata": {},
   "source": [
    "было 5625, стало 1572 благодаря снижению объектов отрицательного класса. Далее буду работать с features_upsampled, т.к. там метрика f1 доходит почти до половины"
   ]
  },
  {
   "cell_type": "markdown",
   "metadata": {},
   "source": [
    "## Тестирование модели"
   ]
  },
  {
   "cell_type": "markdown",
   "metadata": {},
   "source": [
    "использую LogisticRegression, DecisionTreeClassifier, RandomForrestClassifier.\n",
    "Для 2-х последних сначала найду лучшие параметры на валидациоонй выборке, при которых f1 максимальный. Потом для этих параметров построю графики для тестовой, валидационной и тестовой выборки"
   ]
  },
  {
   "cell_type": "markdown",
   "metadata": {},
   "source": [
    "LogisticRegression"
   ]
  },
  {
   "cell_type": "code",
   "execution_count": null,
   "metadata": {},
   "outputs": [],
   "source": [
    "model = LogisticRegression(random_state=12345, solver='liblinear', class_weight='balanced')\n",
    "model.fit(features_upsampled, target_upsampled)#  (features_train, target_train)\n",
    "predicted_valid = model.predict(features_valid)\n",
    "print(\"для логитической регрессииF1:\", f1_score(target_valid, predicted_valid))"
   ]
  },
  {
   "cell_type": "markdown",
   "metadata": {},
   "source": [
    "Строю DecisionTreeClassifier "
   ]
  },
  {
   "cell_type": "code",
   "execution_count": null,
   "metadata": {},
   "outputs": [],
   "source": [
    "import matplotlib.pyplot as plt\n",
    "from sklearn.tree import DecisionTreeClassifier\n",
    "from sklearn.metrics import accuracy_score\n",
    "\n",
    "# Создаю списки для записи тестовых,  валидационных и тренировочных оценок \n",
    "f1_scores_test = []\n",
    "f1_scores_val = []\n",
    "f1_scores_train = []\n",
    "\n",
    "#изначальное значение f1 и глубины = 0\n",
    "best_f1 = 0\n",
    "best_depth = 0\n",
    "\n",
    "# итерация по разной глубине дерева\n",
    "max_depths =  [1, 2, 3, 4, 5, 6, 7, 8, 9, 10]\n",
    "for depth in max_depths:\n",
    "    \n",
    "    model = DecisionTreeClassifier(random_state=12345, max_depth=depth , class_weight='balanced')\n",
    "    #Обучаю на features_upsampled, данных после upsampled\n",
    "    model.fit(features_upsampled, target_upsampled)#  (features_train, target_train)\n",
    "\n",
    "    #предсказания для тестовой, валидационной и тестовой выборки\n",
    "    predictions_test = model.predict(X_test)\n",
    "    predictions_val = model.predict(features_valid)\n",
    "    predictions_train = model.predict(features_train)\n",
    "    \n",
    "    #f1 для тестовой, валидационной и тестовой выборки\n",
    "    f1_test = f1_score(y_test, predictions_test)\n",
    "    f1_val = f1_score(target_valid, predictions_val)\n",
    "    f1_train = f1_score(target_train, predictions_train)\n",
    "\n",
    "    #заполняю списки для построения графика зависимости f1 от глубины дерева\n",
    "    f1_scores_test.append(f1_test)\n",
    "    f1_scores_val.append(f1_val)\n",
    "    f1_scores_train.append(f1_train)\n",
    "    \n",
    "    if f1_val > best_f1:\n",
    "        best_depth = depth\n",
    "        f1_val = best_f1\n",
    "\n",
    "# Plotting the graph\n",
    "plt.figure(figsize=(20, 10))\n",
    "\n",
    "plt.plot(max_depths, f1_scores_test , label='f1 Score на тестовой выборке')\n",
    "plt.plot(max_depths, f1_scores_val , label='f1 Score на валидационной выборке')\n",
    "plt.plot(max_depths, f1_scores_train , label='f1 Score на тренировочноый выборке')\n",
    "\n",
    "plt.xlabel('Max Depth')\n",
    "plt.ylabel('f1 Score')\n",
    "plt.legend()\n",
    "plt.show()\n",
    "\n",
    "auc_roc_train = roc_auc_score(target_train, probabilities_one_train)\n",
    "print('Тренировочная выборка:')\n",
    "print('F1-мера:',max(f1_scores_train))\n",
    "print('AUC-ROC:',auc_roc_train)\n",
    "print()\n",
    "auc_roc_val = roc_auc_score(target_valid, probabilities_one_val)\n",
    "print('Валидационная выборка:')\n",
    "print('F1-мера:', max(f1_scores_val))\n",
    "print('AUC-ROC:',auc_roc_val)\n",
    "print()\n",
    "auc_roc_test = roc_auc_score(y_test, probabilities_one_test)\n",
    "print('Тестовая выборка:')\n",
    "print('F1-мера:',max(f1_scores_test))\n",
    "print('AUC-ROC:',auc_roc_test)"
   ]
  },
  {
   "cell_type": "markdown",
   "metadata": {},
   "source": [
    "Ищу лучшее количество деревьев для RandomForestClassifier"
   ]
  },
  {
   "cell_type": "code",
   "execution_count": null,
   "metadata": {},
   "outputs": [],
   "source": [
    "col = ['n_estimators', 'f1_score', 'auc_roc']\n",
    "data = []\n",
    "\n",
    "#для количества деревьев от 1 до 99\n",
    "for est in range(1, 100):\n",
    "    model = RandomForestClassifier(random_state=12345, n_estimators=est,  class_weight='balanced') \n",
    "    model.fit(features_upsampled, target_upsampled)#  (features_train, target_train)\n",
    "    predictions = model.predict(features_valid)\n",
    "    f1 = f1_score(target_valid, predictions)\n",
    "    probabilities_valid = model.predict_proba(features_valid)\n",
    "    probabilities_one_valid = probabilities_valid[:, 1]\n",
    "    auc_roc = roc_auc_score(target_valid, probabilities_one_valid)\n",
    "    data.append([est, f1, auc_roc])\n",
    "table = pd.DataFrame(data = data, columns=col)\n",
    "display(table[table['f1_score']==table['f1_score'].max()]) \n",
    "display(table[table['auc_roc']==table['auc_roc'].max()])"
   ]
  },
  {
   "cell_type": "markdown",
   "metadata": {},
   "source": [
    "Высокое f1  достигается при количестве деревьев, равном 77 и 97\n",
    "Используя 77 деревьев, найдем глубину для самого  высокого значения f1 и roc."
   ]
  },
  {
   "cell_type": "code",
   "execution_count": null,
   "metadata": {},
   "outputs": [],
   "source": [
    "# Создаю списки для записи тестовых,  валидационных и тренировочных оценок \n",
    "f1_scores_test = []\n",
    "f1_scores_val = []\n",
    "f1_scores_train = []\n",
    "\n",
    "\n",
    "# итерация по разной глубине дерева\n",
    "max_depths =  [1, 2, 3, 4, 5, 6, 7, 8, 9, 10]\n",
    "for depth in max_depths:\n",
    "    \n",
    "    #изначальное значение f1 и глубины = 0\n",
    "    best_f1 = 0\n",
    "    best_depth = 0\n",
    "    \n",
    "    model = RandomForestClassifier(random_state=12345, n_estimators=77 , max_depth=depth,  class_weight='balanced')\n",
    "    #Обучаю на features_upsampled, данных после upsampled\n",
    "    model.fit(features_upsampled, target_upsampled)#  (features_train, target_train)\n",
    "\n",
    "    #предсказания для тестовой, валидационной и тестовой выборки\n",
    "    predictions_test = model.predict(X_test)\n",
    "    predictions_val = model.predict(features_valid)\n",
    "    predictions_train = model.predict(features_train)\n",
    "    \n",
    "    #f1 для тестовой, валидационной и тестовой выборки\n",
    "    f1_test = f1_score(y_test, predictions_test)\n",
    "    f1_val = f1_score(target_valid, predictions_val)\n",
    "    f1_train = f1_score(target_train, predictions_train)\n",
    "\n",
    "    #заполняю списки для построения графика зависимости f1 от глубины дерева\n",
    "    f1_scores_test.append(f1_test)\n",
    "    f1_scores_val.append(f1_val)\n",
    "    f1_scores_train.append(f1_train)\n",
    "   \n",
    "    #запоминаю наибольшее значение f1 и глубины для него\n",
    "    if f1_val > best_f1:\n",
    "        best_depth = depth\n",
    "        f1_val = best_f1\n",
    "print(best_depth)  #выводит 10, что не верно\n",
    "print(best_f1) #выводит 10, что не верно\n",
    "\n",
    "# График зависимости f1 от глубины дерева\n",
    "#размер\n",
    "plt.figure(figsize=(20, 10))\n",
    "#оси х,y, подпись графиков\n",
    "plt.plot(max_depths, f1_scores_test , label='f1 Score на тестовой выборке')\n",
    "plt.plot(max_depths, f1_scores_val , label='f1 Score на валидационной выборке')\n",
    "plt.plot(max_depths, f1_scores_train , label='f1 Score на тренировочноый выборке')\n",
    "#подписи осей и построение графика\n",
    "plt.xlabel('Max Depth')\n",
    "plt.ylabel('f1 Score')\n",
    "plt.legend()\n",
    "plt.show()\n",
    "\n",
    "#график 'ROC-кривой'\n",
    "fpr_valid, tpr_valid, thresholds = roc_curve(target_valid, probabilities_one_val)\n",
    "fpr_train, tpr_train, thresholds = roc_curve(target_train, probabilities_one_train)\n",
    "fpr_test, tpr_test, thresholds = roc_curve(y_test, probabilities_one_test)\n",
    "\n",
    "plt.figure()\n",
    "plt.plot(fpr_valid, tpr_valid)\n",
    "plt.plot(fpr_train, tpr_train)\n",
    "plt.plot(fpr_test, tpr_test)\n",
    "\n",
    "plt.plot([0, 1], [0, 1], linestyle='--')\n",
    "plt.xlim([0.0, 1.0])\n",
    "plt.ylim([0.0, 1.0])\n",
    "plt.xlabel('False Positive Rate')\n",
    "plt.ylabel('True Positive Rate')\n",
    "plt.title('ROC-кривая')\n",
    "plt.show()\n",
    "\n",
    "#печать f1, auc-roc\n",
    "auc_roc_train = roc_auc_score(target_train, probabilities_one_train)\n",
    "print('Тренировочная выборка:')\n",
    "print('F1-мера:',f1_train)\n",
    "print('AUC-ROC:',auc_roc_train)\n",
    "print()\n",
    "auc_roc_val = roc_auc_score(target_valid, probabilities_one_val)\n",
    "print('Валидационная выборка:')\n",
    "print('F1-мера:', f1_val)\n",
    "print('AUC-ROC:',auc_roc_val)\n",
    "print()\n",
    "auc_roc_test = roc_auc_score(y_test, probabilities_one_test)\n",
    "print('Тестовая выборка:')\n",
    "print('F1-мера:',f1_test)\n",
    "print('AUC-ROC:',auc_roc_test)\n"
   ]
  },
  {
   "cell_type": "markdown",
   "metadata": {},
   "source": [
    "Теперь проверим на адекватность, выбранную нами модель. Для этого посмотрим, как справится с задачей фиктивный классификатор DummyClassifier. Он покажет вероятность успеха, даже если просто \"угадать\". Таким образом, чтобы признать модель адекватной, нужно, чтобы показатели метрик были выше, чем те, которые получатся у фиктивного классификатора. Так как от значения параметра strategy может поменяться результат, переберем их, и для сравнения будем учитывать лучший результат:"
   ]
  },
  {
   "cell_type": "code",
   "execution_count": null,
   "metadata": {},
   "outputs": [],
   "source": [
    "data = []\n",
    "#названия стратегий и метрик\n",
    "names = ['stratified', 'most_frequent', 'prior', 'uniform']\n",
    "col = ['name', 'f1_score_valid', 'auc_roc_valid', 'f1_score_test', 'auc_roc_test']\n",
    "for name in names:\n",
    "    #обучим на тренировочной выборке\n",
    "    new_dummy_classifier = DummyClassifier(strategy=name)\n",
    "    new_dummy_classifier.fit(features_train, target_train)\n",
    "    #предскажем на валидационной\n",
    "    predictions_valid = new_dummy_classifier.predict(features_valid)\n",
    "    #расчет accuracy,f1, auc_roc \n",
    "    valid_accuracy = accuracy_score(target_valid, predictions)\n",
    "    valid_f1_score = f1_score(target_valid, predictions_valid )\n",
    "    auc_roc_valid = roc_auc_score(target_valid, predictions_valid)\n",
    "     #предскажем на тестовой\n",
    "    test_predictions = new_dummy_classifier.predict(X_test)\n",
    "    #расчет accuracy,f1, auc_roc \n",
    "    test_accuracy = accuracy_score(y_test, test_predictions)\n",
    "    test_f1_score = f1_score(y_test, test_predictions )\n",
    "    auc_roc_test = roc_auc_score(y_test, test_predictions)\n",
    "    #запишем все данные в список и выведем наибольший f1\n",
    "    data.append([name, valid_f1_score, auc_roc_valid, test_f1_score, auc_roc_test])\n",
    "table = pd.DataFrame(data = data, columns=col)\n",
    "display(table[table['f1_score_test']==table['f1_score_test'].max()]) \n",
    "display(table[table['f1_score_valid']==table['f1_score_valid'].max()].head())"
   ]
  },
  {
   "cell_type": "markdown",
   "metadata": {},
   "source": [
    "Вывод допишу на второй итерации. Надеюсь на подсказу про алгоритм\n",
    "\n",
    "В качестве лучшей модели была выбрана модель случайного леса при значении гиперпараметра max_depth = 5, указании атрибута class_weight='balanced'.\n",
    "\n",
    "На валидационной выборке модель следующие результаты:\n",
    "\n",
    "F1-мера: \n",
    "AUC-ROC:\n",
    "На тестовой выборке модель следующие результаты:\n",
    "\n",
    "F1-мера: 0.60 (изменение на )\n",
    "AUC-ROC: 0.836 (изменение на )\n",
    "Проверку на адекватность модель выдержала. Лучшие (F1-мера:0.31, AUC-ROC: 0.52) показатели фиктивного классификатора значительно ниже.\n",
    "\n",
    "Требование касательно значения F1-меры (нужно довести метрику до 0.59) выполнено - значение F1-меры нашей модели больше 0.6 на тестовой выборке."
   ]
  },
  {
   "cell_type": "markdown",
   "metadata": {},
   "source": [
    "# <font color='orange'>Общее впечатление</font>\n",
    "* Этот проект выполнен очень хорошо\n",
    "* Видно, что приложено много усилий\n",
    "* Молодец, что структурируешь ноутбук, приятно проверять такие работы\n",
    "* У тебя чистый и лаконичный код\n",
    "* Мне было интересно читать твои промежуточные выводы\n",
    "* Твой уровень подачи материала находится на высоком уровне\n",
    "* Исправь, пожалуйста, мои замечания. Затем отправляй на повторную проверку\n",
    "* Жду новую версию проекта 👋"
   ]
  },
  {
   "cell_type": "markdown",
   "metadata": {},
   "source": [
    "# <font color='orange'>2. Общее впечатление</font>\n",
    "* Спасибо за быстрое внесение правок\n",
    "* Теперь проект выглядит лучше )\n",
    "* Критических замечаний нет\n",
    "* Молодец, отличная работа!\n",
    "* Надеюсь, ревью было полезным\n",
    "* Удачи в дальнейшем обучении 👋"
   ]
  }
 ],
 "metadata": {
  "ExecuteTimeLog": [
   {
    "duration": 107,
    "start_time": "2023-05-30T22:25:16.367Z"
   },
   {
    "duration": 541,
    "start_time": "2023-05-30T22:25:18.629Z"
   },
   {
    "duration": 157,
    "start_time": "2023-05-30T22:25:20.211Z"
   },
   {
    "duration": 23,
    "start_time": "2023-05-30T22:25:22.317Z"
   },
   {
    "duration": 78,
    "start_time": "2023-05-30T22:25:52.287Z"
   },
   {
    "duration": 61,
    "start_time": "2023-05-30T22:30:56.969Z"
   },
   {
    "duration": 12,
    "start_time": "2023-05-30T22:41:32.709Z"
   },
   {
    "duration": 12,
    "start_time": "2023-05-30T22:42:41.332Z"
   },
   {
    "duration": 40,
    "start_time": "2023-05-30T22:43:13.644Z"
   },
   {
    "duration": 25,
    "start_time": "2023-05-30T22:43:23.536Z"
   },
   {
    "duration": 12,
    "start_time": "2023-05-30T22:44:33.622Z"
   },
   {
    "duration": 11,
    "start_time": "2023-05-30T22:44:38.908Z"
   },
   {
    "duration": 28,
    "start_time": "2023-05-30T22:51:29.899Z"
   },
   {
    "duration": 17,
    "start_time": "2023-05-30T22:51:57.665Z"
   },
   {
    "duration": 7,
    "start_time": "2023-05-30T22:58:21.013Z"
   },
   {
    "duration": 6,
    "start_time": "2023-05-30T23:14:38.130Z"
   },
   {
    "duration": 1857,
    "start_time": "2023-05-30T23:15:32.584Z"
   },
   {
    "duration": 1460,
    "start_time": "2023-05-30T23:15:43.026Z"
   },
   {
    "duration": 138,
    "start_time": "2023-05-30T23:22:31.534Z"
   },
   {
    "duration": 176,
    "start_time": "2023-05-30T23:22:48.021Z"
   },
   {
    "duration": 128,
    "start_time": "2023-05-30T23:23:09.424Z"
   },
   {
    "duration": 23,
    "start_time": "2023-05-30T23:25:50.900Z"
   },
   {
    "duration": 8,
    "start_time": "2023-05-30T23:37:09.734Z"
   },
   {
    "duration": 172,
    "start_time": "2023-05-30T23:37:43.244Z"
   },
   {
    "duration": 244,
    "start_time": "2023-05-30T23:46:18.071Z"
   },
   {
    "duration": 39,
    "start_time": "2023-05-30T23:49:39.175Z"
   },
   {
    "duration": 5,
    "start_time": "2023-05-30T23:51:27.693Z"
   },
   {
    "duration": 9,
    "start_time": "2023-05-31T00:00:26.025Z"
   },
   {
    "duration": 11,
    "start_time": "2023-05-31T00:08:13.708Z"
   },
   {
    "duration": 8,
    "start_time": "2023-05-31T00:08:25.978Z"
   },
   {
    "duration": 24,
    "start_time": "2023-05-31T00:14:17.181Z"
   },
   {
    "duration": 6,
    "start_time": "2023-05-31T00:14:19.992Z"
   },
   {
    "duration": 12,
    "start_time": "2023-05-31T00:14:33.493Z"
   },
   {
    "duration": 12,
    "start_time": "2023-05-31T00:14:36.244Z"
   },
   {
    "duration": 34,
    "start_time": "2023-05-31T00:24:38.168Z"
   },
   {
    "duration": 11,
    "start_time": "2023-05-31T00:25:51.179Z"
   },
   {
    "duration": 21,
    "start_time": "2023-05-31T00:28:21.342Z"
   },
   {
    "duration": 41,
    "start_time": "2023-05-31T00:29:21.367Z"
   },
   {
    "duration": 31,
    "start_time": "2023-05-31T00:35:33.475Z"
   },
   {
    "duration": 53,
    "start_time": "2023-05-31T00:42:20.774Z"
   },
   {
    "duration": 17,
    "start_time": "2023-05-31T00:43:10.013Z"
   },
   {
    "duration": 59,
    "start_time": "2023-05-31T00:43:10.031Z"
   },
   {
    "duration": 72,
    "start_time": "2023-05-31T00:43:10.099Z"
   },
   {
    "duration": 2032,
    "start_time": "2023-05-31T00:43:10.173Z"
   },
   {
    "duration": 0,
    "start_time": "2023-05-31T00:43:12.207Z"
   },
   {
    "duration": 0,
    "start_time": "2023-05-31T00:43:12.209Z"
   },
   {
    "duration": 0,
    "start_time": "2023-05-31T00:43:12.210Z"
   },
   {
    "duration": 0,
    "start_time": "2023-05-31T00:43:12.212Z"
   },
   {
    "duration": 0,
    "start_time": "2023-05-31T00:43:12.213Z"
   },
   {
    "duration": 0,
    "start_time": "2023-05-31T00:43:12.214Z"
   },
   {
    "duration": 0,
    "start_time": "2023-05-31T00:43:12.216Z"
   },
   {
    "duration": 0,
    "start_time": "2023-05-31T00:43:12.217Z"
   },
   {
    "duration": 0,
    "start_time": "2023-05-31T00:43:12.219Z"
   },
   {
    "duration": 0,
    "start_time": "2023-05-31T00:43:12.220Z"
   },
   {
    "duration": 0,
    "start_time": "2023-05-31T00:43:12.224Z"
   },
   {
    "duration": 0,
    "start_time": "2023-05-31T00:43:12.226Z"
   },
   {
    "duration": 7,
    "start_time": "2023-05-31T00:43:14.671Z"
   },
   {
    "duration": 82,
    "start_time": "2023-05-31T00:43:14.680Z"
   },
   {
    "duration": 23,
    "start_time": "2023-05-31T00:43:14.764Z"
   },
   {
    "duration": 87,
    "start_time": "2023-05-31T00:43:14.789Z"
   },
   {
    "duration": 52,
    "start_time": "2023-05-31T00:43:14.878Z"
   },
   {
    "duration": 1966,
    "start_time": "2023-05-31T00:43:14.932Z"
   },
   {
    "duration": 0,
    "start_time": "2023-05-31T00:43:16.901Z"
   },
   {
    "duration": 0,
    "start_time": "2023-05-31T00:43:16.902Z"
   },
   {
    "duration": 0,
    "start_time": "2023-05-31T00:43:16.904Z"
   },
   {
    "duration": 0,
    "start_time": "2023-05-31T00:43:16.905Z"
   },
   {
    "duration": 0,
    "start_time": "2023-05-31T00:43:16.906Z"
   },
   {
    "duration": 0,
    "start_time": "2023-05-31T00:43:16.907Z"
   },
   {
    "duration": 0,
    "start_time": "2023-05-31T00:43:16.908Z"
   },
   {
    "duration": 0,
    "start_time": "2023-05-31T00:43:16.909Z"
   },
   {
    "duration": 0,
    "start_time": "2023-05-31T00:43:16.911Z"
   },
   {
    "duration": 0,
    "start_time": "2023-05-31T00:43:16.912Z"
   },
   {
    "duration": 13,
    "start_time": "2023-05-31T00:49:07.231Z"
   },
   {
    "duration": 24,
    "start_time": "2023-05-31T00:49:13.585Z"
   },
   {
    "duration": 5,
    "start_time": "2023-05-31T00:49:40.940Z"
   },
   {
    "duration": 35,
    "start_time": "2023-05-31T00:49:42.973Z"
   },
   {
    "duration": 8,
    "start_time": "2023-05-31T00:49:56.066Z"
   },
   {
    "duration": 12,
    "start_time": "2023-05-31T00:49:58.477Z"
   },
   {
    "duration": 6,
    "start_time": "2023-05-31T00:50:19.247Z"
   },
   {
    "duration": 15,
    "start_time": "2023-05-31T00:50:21.313Z"
   },
   {
    "duration": 9,
    "start_time": "2023-05-31T00:54:11.232Z"
   },
   {
    "duration": 37,
    "start_time": "2023-05-31T00:55:25.383Z"
   },
   {
    "duration": 240,
    "start_time": "2023-05-31T01:18:50.932Z"
   },
   {
    "duration": 1730,
    "start_time": "2023-05-31T13:01:48.466Z"
   },
   {
    "duration": 354,
    "start_time": "2023-05-31T13:01:50.198Z"
   },
   {
    "duration": 21,
    "start_time": "2023-05-31T13:01:51.987Z"
   },
   {
    "duration": 109,
    "start_time": "2023-05-31T13:01:55.575Z"
   },
   {
    "duration": 5,
    "start_time": "2023-05-31T13:02:02.337Z"
   },
   {
    "duration": 47,
    "start_time": "2023-05-31T13:02:04.490Z"
   },
   {
    "duration": 40,
    "start_time": "2023-05-31T13:02:11.772Z"
   },
   {
    "duration": 13,
    "start_time": "2023-05-31T13:02:15.681Z"
   },
   {
    "duration": 14,
    "start_time": "2023-05-31T13:02:25.326Z"
   },
   {
    "duration": 11,
    "start_time": "2023-05-31T13:02:53.594Z"
   },
   {
    "duration": 11,
    "start_time": "2023-05-31T13:03:02.946Z"
   },
   {
    "duration": 14,
    "start_time": "2023-05-31T13:03:05.162Z"
   },
   {
    "duration": 16,
    "start_time": "2023-05-31T13:03:17.477Z"
   },
   {
    "duration": 1102,
    "start_time": "2023-05-31T13:03:24.866Z"
   },
   {
    "duration": 15,
    "start_time": "2023-05-31T13:03:45.263Z"
   },
   {
    "duration": 8,
    "start_time": "2023-05-31T13:04:03.092Z"
   },
   {
    "duration": 8,
    "start_time": "2023-05-31T13:04:09.483Z"
   },
   {
    "duration": 8,
    "start_time": "2023-05-31T13:04:39.782Z"
   },
   {
    "duration": 8,
    "start_time": "2023-05-31T13:04:41.871Z"
   },
   {
    "duration": 10,
    "start_time": "2023-05-31T13:05:08.748Z"
   },
   {
    "duration": 7,
    "start_time": "2023-05-31T13:08:43.158Z"
   },
   {
    "duration": 149,
    "start_time": "2023-05-31T13:09:49.277Z"
   },
   {
    "duration": 46,
    "start_time": "2023-05-31T13:10:00.317Z"
   },
   {
    "duration": 5,
    "start_time": "2023-05-31T13:10:02.617Z"
   },
   {
    "duration": 115,
    "start_time": "2023-05-31T13:10:09.910Z"
   },
   {
    "duration": 12,
    "start_time": "2023-05-31T13:10:12.751Z"
   },
   {
    "duration": 7,
    "start_time": "2023-05-31T13:10:14.674Z"
   },
   {
    "duration": 7,
    "start_time": "2023-05-31T16:53:23.392Z"
   },
   {
    "duration": 3,
    "start_time": "2023-05-31T17:04:03.760Z"
   },
   {
    "duration": 3,
    "start_time": "2023-05-31T17:04:08.592Z"
   },
   {
    "duration": 8,
    "start_time": "2023-05-31T17:04:12.074Z"
   },
   {
    "duration": 8,
    "start_time": "2023-05-31T17:15:16.202Z"
   },
   {
    "duration": 6,
    "start_time": "2023-05-31T17:15:18.779Z"
   },
   {
    "duration": 9,
    "start_time": "2023-05-31T17:15:54.289Z"
   },
   {
    "duration": 7,
    "start_time": "2023-05-31T17:18:33.094Z"
   },
   {
    "duration": 7,
    "start_time": "2023-05-31T17:18:57.854Z"
   },
   {
    "duration": 6,
    "start_time": "2023-05-31T17:19:22.192Z"
   },
   {
    "duration": 11,
    "start_time": "2023-05-31T17:21:40.152Z"
   },
   {
    "duration": 8,
    "start_time": "2023-05-31T17:22:17.553Z"
   },
   {
    "duration": 14,
    "start_time": "2023-05-31T17:23:02.334Z"
   },
   {
    "duration": 18,
    "start_time": "2023-05-31T17:23:31.572Z"
   },
   {
    "duration": 17,
    "start_time": "2023-05-31T17:25:20.492Z"
   },
   {
    "duration": 16,
    "start_time": "2023-05-31T17:25:52.791Z"
   },
   {
    "duration": 2,
    "start_time": "2023-05-31T17:28:01.980Z"
   },
   {
    "duration": 2286,
    "start_time": "2023-05-31T17:30:48.188Z"
   },
   {
    "duration": 1702,
    "start_time": "2023-05-31T17:31:22.223Z"
   },
   {
    "duration": 2092,
    "start_time": "2023-05-31T17:31:37.500Z"
   },
   {
    "duration": 8,
    "start_time": "2023-05-31T17:31:57.134Z"
   },
   {
    "duration": 9,
    "start_time": "2023-05-31T17:32:06.950Z"
   },
   {
    "duration": 18,
    "start_time": "2023-05-31T18:08:50.857Z"
   },
   {
    "duration": 4,
    "start_time": "2023-05-31T18:14:46.279Z"
   },
   {
    "duration": 26,
    "start_time": "2023-05-31T18:15:08.705Z"
   },
   {
    "duration": 5,
    "start_time": "2023-05-31T18:16:12.705Z"
   },
   {
    "duration": 17,
    "start_time": "2023-05-31T18:16:50.403Z"
   },
   {
    "duration": 19,
    "start_time": "2023-05-31T18:16:57.954Z"
   },
   {
    "duration": 11,
    "start_time": "2023-05-31T18:19:01.127Z"
   },
   {
    "duration": 11,
    "start_time": "2023-05-31T18:20:11.734Z"
   },
   {
    "duration": 224,
    "start_time": "2023-05-31T18:20:14.870Z"
   },
   {
    "duration": 153,
    "start_time": "2023-05-31T18:20:19.336Z"
   },
   {
    "duration": 9,
    "start_time": "2023-05-31T18:20:35.870Z"
   },
   {
    "duration": 4,
    "start_time": "2023-05-31T18:20:38.888Z"
   },
   {
    "duration": 3,
    "start_time": "2023-05-31T18:22:01.052Z"
   },
   {
    "duration": 81,
    "start_time": "2023-05-31T22:05:35.687Z"
   },
   {
    "duration": 4,
    "start_time": "2023-05-31T22:07:57.978Z"
   },
   {
    "duration": 3,
    "start_time": "2023-05-31T22:08:21.038Z"
   },
   {
    "duration": 4,
    "start_time": "2023-05-31T22:11:40.202Z"
   },
   {
    "duration": 9,
    "start_time": "2023-05-31T22:13:20.154Z"
   },
   {
    "duration": 3,
    "start_time": "2023-05-31T22:13:24.902Z"
   },
   {
    "duration": 2954,
    "start_time": "2023-05-31T22:13:34.404Z"
   },
   {
    "duration": 2962,
    "start_time": "2023-05-31T22:15:26.143Z"
   },
   {
    "duration": 5687,
    "start_time": "2023-05-31T22:18:38.473Z"
   },
   {
    "duration": 21479,
    "start_time": "2023-05-31T22:23:26.322Z"
   },
   {
    "duration": 16668,
    "start_time": "2023-05-31T22:25:13.876Z"
   },
   {
    "duration": 5443,
    "start_time": "2023-05-31T22:25:56.671Z"
   },
   {
    "duration": 89,
    "start_time": "2023-05-31T22:30:03.842Z"
   },
   {
    "duration": 34,
    "start_time": "2023-05-31T22:30:08.442Z"
   },
   {
    "duration": 14,
    "start_time": "2023-05-31T22:32:36.993Z"
   },
   {
    "duration": 621,
    "start_time": "2023-05-31T22:34:52.121Z"
   },
   {
    "duration": 524,
    "start_time": "2023-05-31T22:41:54.772Z"
   },
   {
    "duration": 1226,
    "start_time": "2023-05-31T22:44:10.093Z"
   },
   {
    "duration": 1208,
    "start_time": "2023-05-31T22:48:28.081Z"
   },
   {
    "duration": 1215,
    "start_time": "2023-05-31T22:51:06.251Z"
   },
   {
    "duration": 246,
    "start_time": "2023-05-31T22:53:40.308Z"
   },
   {
    "duration": 242,
    "start_time": "2023-05-31T22:54:42.310Z"
   },
   {
    "duration": 253,
    "start_time": "2023-05-31T22:55:17.950Z"
   },
   {
    "duration": 375,
    "start_time": "2023-05-31T22:56:20.209Z"
   },
   {
    "duration": 100,
    "start_time": "2023-05-31T23:04:04.109Z"
   },
   {
    "duration": 340,
    "start_time": "2023-05-31T23:04:14.590Z"
   },
   {
    "duration": 389,
    "start_time": "2023-05-31T23:04:46.223Z"
   },
   {
    "duration": 348,
    "start_time": "2023-05-31T23:10:57.919Z"
   },
   {
    "duration": 353,
    "start_time": "2023-05-31T23:13:20.926Z"
   },
   {
    "duration": 39,
    "start_time": "2023-05-31T23:30:16.253Z"
   },
   {
    "duration": 3,
    "start_time": "2023-05-31T23:31:35.503Z"
   },
   {
    "duration": 40,
    "start_time": "2023-05-31T23:32:09.913Z"
   },
   {
    "duration": 158,
    "start_time": "2023-05-31T23:57:45.815Z"
   },
   {
    "duration": 169,
    "start_time": "2023-05-31T23:58:01.206Z"
   },
   {
    "duration": 403,
    "start_time": "2023-05-31T23:58:35.799Z"
   },
   {
    "duration": 147,
    "start_time": "2023-06-01T00:23:45.313Z"
   },
   {
    "duration": 3,
    "start_time": "2023-06-01T00:24:05.715Z"
   },
   {
    "duration": 46,
    "start_time": "2023-06-01T00:24:05.720Z"
   },
   {
    "duration": 11,
    "start_time": "2023-06-01T00:24:05.768Z"
   },
   {
    "duration": 35,
    "start_time": "2023-06-01T00:24:05.781Z"
   },
   {
    "duration": 41,
    "start_time": "2023-06-01T00:24:05.819Z"
   },
   {
    "duration": 7,
    "start_time": "2023-06-01T00:24:05.863Z"
   },
   {
    "duration": 18,
    "start_time": "2023-06-01T00:24:05.871Z"
   },
   {
    "duration": 19,
    "start_time": "2023-06-01T00:24:05.891Z"
   },
   {
    "duration": 5,
    "start_time": "2023-06-01T00:24:05.912Z"
   },
   {
    "duration": 18,
    "start_time": "2023-06-01T00:24:05.919Z"
   },
   {
    "duration": 21,
    "start_time": "2023-06-01T00:24:05.939Z"
   },
   {
    "duration": 24,
    "start_time": "2023-06-01T00:24:05.962Z"
   },
   {
    "duration": 31,
    "start_time": "2023-06-01T00:24:05.988Z"
   },
   {
    "duration": 21,
    "start_time": "2023-06-01T00:24:06.023Z"
   },
   {
    "duration": 19,
    "start_time": "2023-06-01T00:24:06.046Z"
   },
   {
    "duration": 18,
    "start_time": "2023-06-01T00:24:06.067Z"
   },
   {
    "duration": 31,
    "start_time": "2023-06-01T00:24:06.087Z"
   },
   {
    "duration": 0,
    "start_time": "2023-06-01T00:24:06.120Z"
   },
   {
    "duration": 0,
    "start_time": "2023-06-01T00:24:06.121Z"
   },
   {
    "duration": 1,
    "start_time": "2023-06-01T00:24:06.122Z"
   },
   {
    "duration": 0,
    "start_time": "2023-06-01T00:24:06.123Z"
   },
   {
    "duration": 0,
    "start_time": "2023-06-01T00:24:06.125Z"
   },
   {
    "duration": 0,
    "start_time": "2023-06-01T00:24:06.126Z"
   },
   {
    "duration": 0,
    "start_time": "2023-06-01T00:24:06.127Z"
   },
   {
    "duration": 0,
    "start_time": "2023-06-01T00:24:06.128Z"
   },
   {
    "duration": 0,
    "start_time": "2023-06-01T00:24:06.129Z"
   },
   {
    "duration": 0,
    "start_time": "2023-06-01T00:24:06.131Z"
   },
   {
    "duration": 0,
    "start_time": "2023-06-01T00:24:06.132Z"
   },
   {
    "duration": 0,
    "start_time": "2023-06-01T00:24:06.132Z"
   },
   {
    "duration": 7,
    "start_time": "2023-06-01T00:24:38.932Z"
   },
   {
    "duration": 14,
    "start_time": "2023-06-01T00:24:47.292Z"
   },
   {
    "duration": 3,
    "start_time": "2023-06-01T00:24:49.362Z"
   },
   {
    "duration": 103,
    "start_time": "2023-06-01T00:24:54.882Z"
   },
   {
    "duration": 20,
    "start_time": "2023-06-01T00:25:00.642Z"
   },
   {
    "duration": 33,
    "start_time": "2023-06-01T00:25:24.079Z"
   },
   {
    "duration": 3034,
    "start_time": "2023-06-01T00:25:26.401Z"
   },
   {
    "duration": 375,
    "start_time": "2023-06-01T00:25:35.442Z"
   },
   {
    "duration": 162,
    "start_time": "2023-06-01T00:25:42.562Z"
   },
   {
    "duration": 164,
    "start_time": "2023-06-01T00:26:27.411Z"
   },
   {
    "duration": 12,
    "start_time": "2023-06-01T00:29:58.451Z"
   },
   {
    "duration": 3,
    "start_time": "2023-06-01T00:29:59.901Z"
   },
   {
    "duration": 113,
    "start_time": "2023-06-01T00:30:13.021Z"
   },
   {
    "duration": 178,
    "start_time": "2023-06-01T00:30:39.575Z"
   },
   {
    "duration": 43,
    "start_time": "2023-06-01T00:31:26.522Z"
   },
   {
    "duration": 167,
    "start_time": "2023-06-01T00:31:27.936Z"
   },
   {
    "duration": 169,
    "start_time": "2023-06-01T00:31:52.615Z"
   },
   {
    "duration": 160,
    "start_time": "2023-06-01T00:33:11.633Z"
   },
   {
    "duration": 167,
    "start_time": "2023-06-01T00:34:38.403Z"
   },
   {
    "duration": 169,
    "start_time": "2023-06-01T00:34:58.293Z"
   },
   {
    "duration": 22,
    "start_time": "2023-06-01T01:01:18.850Z"
   },
   {
    "duration": 4,
    "start_time": "2023-06-01T01:02:00.521Z"
   },
   {
    "duration": 329,
    "start_time": "2023-06-01T01:02:23.003Z"
   },
   {
    "duration": 1291,
    "start_time": "2023-06-01T01:15:19.901Z"
   },
   {
    "duration": 40,
    "start_time": "2023-06-01T01:15:21.195Z"
   },
   {
    "duration": 15,
    "start_time": "2023-06-01T01:15:21.236Z"
   },
   {
    "duration": 44,
    "start_time": "2023-06-01T01:15:21.252Z"
   },
   {
    "duration": 32,
    "start_time": "2023-06-01T01:15:21.297Z"
   },
   {
    "duration": 7,
    "start_time": "2023-06-01T01:15:21.330Z"
   },
   {
    "duration": 18,
    "start_time": "2023-06-01T01:15:21.338Z"
   },
   {
    "duration": 36,
    "start_time": "2023-06-01T01:15:21.357Z"
   },
   {
    "duration": 16,
    "start_time": "2023-06-01T01:15:21.395Z"
   },
   {
    "duration": 10,
    "start_time": "2023-06-01T01:15:21.412Z"
   },
   {
    "duration": 12,
    "start_time": "2023-06-01T01:15:21.423Z"
   },
   {
    "duration": 4,
    "start_time": "2023-06-01T01:15:21.436Z"
   },
   {
    "duration": 11,
    "start_time": "2023-06-01T01:15:21.442Z"
   },
   {
    "duration": 16,
    "start_time": "2023-06-01T01:15:21.455Z"
   },
   {
    "duration": 4,
    "start_time": "2023-06-01T01:15:21.472Z"
   },
   {
    "duration": 30,
    "start_time": "2023-06-01T01:15:21.477Z"
   },
   {
    "duration": 26,
    "start_time": "2023-06-01T01:15:21.508Z"
   },
   {
    "duration": 20,
    "start_time": "2023-06-01T01:15:21.536Z"
   },
   {
    "duration": 3,
    "start_time": "2023-06-01T01:15:21.557Z"
   },
   {
    "duration": 110,
    "start_time": "2023-06-01T01:15:21.561Z"
   },
   {
    "duration": 0,
    "start_time": "2023-06-01T01:15:21.672Z"
   },
   {
    "duration": 0,
    "start_time": "2023-06-01T01:15:21.673Z"
   },
   {
    "duration": 0,
    "start_time": "2023-06-01T01:15:21.674Z"
   },
   {
    "duration": 0,
    "start_time": "2023-06-01T01:15:21.675Z"
   },
   {
    "duration": 0,
    "start_time": "2023-06-01T01:15:21.676Z"
   },
   {
    "duration": 0,
    "start_time": "2023-06-01T01:15:21.677Z"
   },
   {
    "duration": 0,
    "start_time": "2023-06-01T01:15:21.688Z"
   },
   {
    "duration": 0,
    "start_time": "2023-06-01T01:15:21.689Z"
   },
   {
    "duration": 0,
    "start_time": "2023-06-01T01:15:21.690Z"
   },
   {
    "duration": 1,
    "start_time": "2023-06-01T01:15:21.691Z"
   },
   {
    "duration": 0,
    "start_time": "2023-06-01T01:15:21.693Z"
   },
   {
    "duration": 21,
    "start_time": "2023-06-01T01:15:45.938Z"
   },
   {
    "duration": 4,
    "start_time": "2023-06-01T01:16:47.504Z"
   },
   {
    "duration": 41,
    "start_time": "2023-06-01T01:16:56.484Z"
   },
   {
    "duration": 20,
    "start_time": "2023-06-01T01:17:00.872Z"
   },
   {
    "duration": 11,
    "start_time": "2023-06-01T01:17:07.604Z"
   },
   {
    "duration": 26,
    "start_time": "2023-06-01T01:17:14.555Z"
   },
   {
    "duration": 12,
    "start_time": "2023-06-01T01:17:16.994Z"
   },
   {
    "duration": 4,
    "start_time": "2023-06-01T01:17:51.204Z"
   },
   {
    "duration": 321,
    "start_time": "2023-06-01T01:17:59.755Z"
   },
   {
    "duration": 13,
    "start_time": "2023-06-01T01:18:05.944Z"
   },
   {
    "duration": 4,
    "start_time": "2023-06-01T01:18:23.924Z"
   },
   {
    "duration": 1287,
    "start_time": "2023-06-01T01:18:53.934Z"
   },
   {
    "duration": 40,
    "start_time": "2023-06-01T01:18:55.222Z"
   },
   {
    "duration": 15,
    "start_time": "2023-06-01T01:18:55.263Z"
   },
   {
    "duration": 47,
    "start_time": "2023-06-01T01:18:55.279Z"
   },
   {
    "duration": 33,
    "start_time": "2023-06-01T01:18:55.328Z"
   },
   {
    "duration": 6,
    "start_time": "2023-06-01T01:18:55.362Z"
   },
   {
    "duration": 22,
    "start_time": "2023-06-01T01:18:55.370Z"
   },
   {
    "duration": 28,
    "start_time": "2023-06-01T01:18:55.394Z"
   },
   {
    "duration": 21,
    "start_time": "2023-06-01T01:18:55.424Z"
   },
   {
    "duration": 17,
    "start_time": "2023-06-01T01:18:55.447Z"
   },
   {
    "duration": 17,
    "start_time": "2023-06-01T01:18:55.465Z"
   },
   {
    "duration": 9,
    "start_time": "2023-06-01T01:18:55.483Z"
   },
   {
    "duration": 15,
    "start_time": "2023-06-01T01:18:55.493Z"
   },
   {
    "duration": 33,
    "start_time": "2023-06-01T01:18:55.510Z"
   },
   {
    "duration": 17,
    "start_time": "2023-06-01T01:18:55.545Z"
   },
   {
    "duration": 7,
    "start_time": "2023-06-01T01:18:55.563Z"
   },
   {
    "duration": 6,
    "start_time": "2023-06-01T01:18:55.571Z"
   },
   {
    "duration": 13,
    "start_time": "2023-06-01T01:18:55.578Z"
   },
   {
    "duration": 2,
    "start_time": "2023-06-01T01:18:55.593Z"
   },
   {
    "duration": 91,
    "start_time": "2023-06-01T01:18:55.596Z"
   },
   {
    "duration": 95,
    "start_time": "2023-06-01T01:18:55.689Z"
   },
   {
    "duration": 20,
    "start_time": "2023-06-01T01:18:55.785Z"
   },
   {
    "duration": 25,
    "start_time": "2023-06-01T01:18:55.806Z"
   },
   {
    "duration": 154,
    "start_time": "2023-06-01T01:18:55.834Z"
   },
   {
    "duration": 97,
    "start_time": "2023-06-01T01:18:55.989Z"
   },
   {
    "duration": 416,
    "start_time": "2023-06-01T01:18:56.087Z"
   },
   {
    "duration": 32111,
    "start_time": "2023-06-01T01:18:56.504Z"
   },
   {
    "duration": 2928,
    "start_time": "2023-06-01T01:19:28.616Z"
   },
   {
    "duration": 397,
    "start_time": "2023-06-01T01:19:31.546Z"
   },
   {
    "duration": 163,
    "start_time": "2023-06-01T01:19:31.945Z"
   },
   {
    "duration": 90,
    "start_time": "2023-06-01T01:23:01.737Z"
   },
   {
    "duration": 81,
    "start_time": "2023-06-01T01:23:23.777Z"
   },
   {
    "duration": 90,
    "start_time": "2023-06-01T01:23:29.887Z"
   },
   {
    "duration": 57,
    "start_time": "2023-06-01T15:13:57.871Z"
   },
   {
    "duration": 1638,
    "start_time": "2023-06-01T15:15:28.559Z"
   },
   {
    "duration": 84,
    "start_time": "2023-06-01T15:15:30.199Z"
   },
   {
    "duration": 17,
    "start_time": "2023-06-01T15:15:30.285Z"
   },
   {
    "duration": 63,
    "start_time": "2023-06-01T15:15:30.304Z"
   },
   {
    "duration": 39,
    "start_time": "2023-06-01T15:15:30.370Z"
   },
   {
    "duration": 17,
    "start_time": "2023-06-01T15:15:30.411Z"
   },
   {
    "duration": 26,
    "start_time": "2023-06-01T15:15:30.430Z"
   },
   {
    "duration": 35,
    "start_time": "2023-06-01T15:15:30.458Z"
   },
   {
    "duration": 33,
    "start_time": "2023-06-01T15:15:30.495Z"
   },
   {
    "duration": 38,
    "start_time": "2023-06-01T15:15:30.530Z"
   },
   {
    "duration": 46,
    "start_time": "2023-06-01T15:15:30.570Z"
   },
   {
    "duration": 89,
    "start_time": "2023-06-01T15:15:30.617Z"
   },
   {
    "duration": 0,
    "start_time": "2023-06-01T15:15:30.708Z"
   },
   {
    "duration": 0,
    "start_time": "2023-06-01T15:15:30.709Z"
   },
   {
    "duration": 0,
    "start_time": "2023-06-01T15:15:30.710Z"
   },
   {
    "duration": 0,
    "start_time": "2023-06-01T15:15:30.711Z"
   },
   {
    "duration": 0,
    "start_time": "2023-06-01T15:15:30.713Z"
   },
   {
    "duration": 0,
    "start_time": "2023-06-01T15:15:30.714Z"
   },
   {
    "duration": 0,
    "start_time": "2023-06-01T15:15:30.715Z"
   },
   {
    "duration": 0,
    "start_time": "2023-06-01T15:15:30.716Z"
   },
   {
    "duration": 0,
    "start_time": "2023-06-01T15:15:30.718Z"
   },
   {
    "duration": 0,
    "start_time": "2023-06-01T15:15:30.719Z"
   },
   {
    "duration": 0,
    "start_time": "2023-06-01T15:15:30.720Z"
   },
   {
    "duration": 0,
    "start_time": "2023-06-01T15:15:30.721Z"
   },
   {
    "duration": 0,
    "start_time": "2023-06-01T15:15:30.722Z"
   },
   {
    "duration": 0,
    "start_time": "2023-06-01T15:15:30.723Z"
   },
   {
    "duration": 0,
    "start_time": "2023-06-01T15:15:30.724Z"
   },
   {
    "duration": 0,
    "start_time": "2023-06-01T15:15:30.725Z"
   },
   {
    "duration": 0,
    "start_time": "2023-06-01T15:15:30.727Z"
   },
   {
    "duration": 0,
    "start_time": "2023-06-01T15:15:30.728Z"
   },
   {
    "duration": 0,
    "start_time": "2023-06-01T15:15:30.729Z"
   },
   {
    "duration": 9,
    "start_time": "2023-06-01T15:47:45.442Z"
   },
   {
    "duration": 5,
    "start_time": "2023-06-01T15:47:47.562Z"
   },
   {
    "duration": 133,
    "start_time": "2023-06-02T16:48:00.004Z"
   },
   {
    "duration": 1505,
    "start_time": "2023-06-02T16:53:09.141Z"
   },
   {
    "duration": 79,
    "start_time": "2023-06-02T16:53:10.647Z"
   },
   {
    "duration": 17,
    "start_time": "2023-06-02T16:53:10.728Z"
   },
   {
    "duration": 42,
    "start_time": "2023-06-02T16:53:10.749Z"
   },
   {
    "duration": 38,
    "start_time": "2023-06-02T16:53:10.794Z"
   },
   {
    "duration": 6,
    "start_time": "2023-06-02T16:53:10.834Z"
   },
   {
    "duration": 10,
    "start_time": "2023-06-02T16:53:10.842Z"
   },
   {
    "duration": 16,
    "start_time": "2023-06-02T16:53:10.854Z"
   },
   {
    "duration": 4,
    "start_time": "2023-06-02T16:53:10.871Z"
   },
   {
    "duration": 13,
    "start_time": "2023-06-02T16:53:10.876Z"
   },
   {
    "duration": 28,
    "start_time": "2023-06-02T16:53:10.891Z"
   },
   {
    "duration": 15,
    "start_time": "2023-06-02T16:53:10.920Z"
   },
   {
    "duration": 8,
    "start_time": "2023-06-02T16:53:10.937Z"
   },
   {
    "duration": 12,
    "start_time": "2023-06-02T16:53:10.947Z"
   },
   {
    "duration": 7,
    "start_time": "2023-06-02T16:53:10.960Z"
   },
   {
    "duration": 13,
    "start_time": "2023-06-02T16:53:10.968Z"
   },
   {
    "duration": 2,
    "start_time": "2023-06-02T16:53:10.983Z"
   },
   {
    "duration": 6,
    "start_time": "2023-06-02T16:53:10.986Z"
   },
   {
    "duration": 25,
    "start_time": "2023-06-02T16:53:10.993Z"
   },
   {
    "duration": 31335,
    "start_time": "2023-06-02T16:53:11.020Z"
   },
   {
    "duration": 94,
    "start_time": "2023-06-02T16:53:42.356Z"
   },
   {
    "duration": 0,
    "start_time": "2023-06-02T16:53:42.451Z"
   },
   {
    "duration": 0,
    "start_time": "2023-06-02T16:53:42.452Z"
   },
   {
    "duration": 0,
    "start_time": "2023-06-02T16:53:42.452Z"
   },
   {
    "duration": 0,
    "start_time": "2023-06-02T16:53:42.454Z"
   },
   {
    "duration": 0,
    "start_time": "2023-06-02T16:53:42.455Z"
   },
   {
    "duration": 0,
    "start_time": "2023-06-02T16:53:42.456Z"
   },
   {
    "duration": 0,
    "start_time": "2023-06-02T16:53:42.457Z"
   },
   {
    "duration": 0,
    "start_time": "2023-06-02T16:53:42.458Z"
   },
   {
    "duration": 0,
    "start_time": "2023-06-02T16:53:42.459Z"
   },
   {
    "duration": 102,
    "start_time": "2023-06-02T16:54:15.513Z"
   },
   {
    "duration": 51,
    "start_time": "2023-06-02T16:55:17.364Z"
   },
   {
    "duration": 46,
    "start_time": "2023-06-02T16:55:58.468Z"
   },
   {
    "duration": 8,
    "start_time": "2023-06-02T16:56:01.917Z"
   },
   {
    "duration": 3,
    "start_time": "2023-06-02T16:56:03.891Z"
   },
   {
    "duration": 22,
    "start_time": "2023-06-02T16:56:05.850Z"
   },
   {
    "duration": 4,
    "start_time": "2023-06-02T16:56:08.403Z"
   },
   {
    "duration": 41,
    "start_time": "2023-06-02T16:56:16.754Z"
   },
   {
    "duration": 409,
    "start_time": "2023-06-02T16:56:21.217Z"
   },
   {
    "duration": 44750,
    "start_time": "2023-06-02T16:56:27.563Z"
   },
   {
    "duration": 429,
    "start_time": "2023-06-02T16:57:30.891Z"
   },
   {
    "duration": 130,
    "start_time": "2023-06-02T17:08:05.941Z"
   },
   {
    "duration": 28,
    "start_time": "2023-06-02T17:48:06.024Z"
   },
   {
    "duration": 27,
    "start_time": "2023-06-02T17:49:03.688Z"
   },
   {
    "duration": 32,
    "start_time": "2023-06-02T17:50:01.879Z"
   },
   {
    "duration": 4,
    "start_time": "2023-06-02T17:52:29.769Z"
   },
   {
    "duration": 58,
    "start_time": "2023-06-02T17:52:29.775Z"
   },
   {
    "duration": 11,
    "start_time": "2023-06-02T17:52:29.835Z"
   },
   {
    "duration": 108,
    "start_time": "2023-06-02T17:52:29.848Z"
   },
   {
    "duration": 30,
    "start_time": "2023-06-02T17:52:29.958Z"
   },
   {
    "duration": 8,
    "start_time": "2023-06-02T17:52:29.989Z"
   },
   {
    "duration": 5,
    "start_time": "2023-06-02T17:52:30.015Z"
   },
   {
    "duration": 49,
    "start_time": "2023-06-02T17:52:30.021Z"
   },
   {
    "duration": 14,
    "start_time": "2023-06-02T17:52:30.072Z"
   },
   {
    "duration": 39,
    "start_time": "2023-06-02T17:52:30.088Z"
   },
   {
    "duration": 33,
    "start_time": "2023-06-02T17:52:30.128Z"
   },
   {
    "duration": 29,
    "start_time": "2023-06-02T17:52:30.162Z"
   },
   {
    "duration": 29,
    "start_time": "2023-06-02T17:52:30.194Z"
   },
   {
    "duration": 27,
    "start_time": "2023-06-02T17:52:30.224Z"
   },
   {
    "duration": 18,
    "start_time": "2023-06-02T17:52:30.252Z"
   },
   {
    "duration": 43,
    "start_time": "2023-06-02T17:52:30.271Z"
   },
   {
    "duration": 28,
    "start_time": "2023-06-02T17:52:30.315Z"
   },
   {
    "duration": 22,
    "start_time": "2023-06-02T17:52:30.344Z"
   },
   {
    "duration": 25,
    "start_time": "2023-06-02T17:52:30.367Z"
   },
   {
    "duration": 31754,
    "start_time": "2023-06-02T17:52:30.394Z"
   },
   {
    "duration": 69,
    "start_time": "2023-06-02T17:53:02.150Z"
   },
   {
    "duration": 126,
    "start_time": "2023-06-02T17:53:02.221Z"
   },
   {
    "duration": 4,
    "start_time": "2023-06-02T17:53:02.415Z"
   },
   {
    "duration": 118,
    "start_time": "2023-06-02T17:53:02.420Z"
   },
   {
    "duration": 34,
    "start_time": "2023-06-02T17:53:02.540Z"
   },
   {
    "duration": 142,
    "start_time": "2023-06-02T17:53:02.576Z"
   },
   {
    "duration": 86,
    "start_time": "2023-06-02T17:53:02.719Z"
   },
   {
    "duration": 553,
    "start_time": "2023-06-02T17:53:02.806Z"
   },
   {
    "duration": 43737,
    "start_time": "2023-06-02T17:53:03.361Z"
   },
   {
    "duration": 380,
    "start_time": "2023-06-02T17:53:47.099Z"
   },
   {
    "duration": 406,
    "start_time": "2023-06-02T17:53:47.481Z"
   },
   {
    "duration": 15,
    "start_time": "2023-06-02T17:59:35.180Z"
   },
   {
    "duration": 433,
    "start_time": "2023-06-02T17:59:56.869Z"
   },
   {
    "duration": 40,
    "start_time": "2023-06-02T18:01:02.180Z"
   },
   {
    "duration": 34,
    "start_time": "2023-06-02T18:02:09.789Z"
   },
   {
    "duration": 26,
    "start_time": "2023-06-02T18:05:14.788Z"
   },
   {
    "duration": 446,
    "start_time": "2023-06-02T18:05:49.038Z"
   },
   {
    "duration": 486,
    "start_time": "2023-06-02T18:10:02.241Z"
   },
   {
    "duration": 45858,
    "start_time": "2023-06-02T18:14:12.000Z"
   },
   {
    "duration": 2596,
    "start_time": "2023-06-02T18:18:16.440Z"
   },
   {
    "duration": 2746,
    "start_time": "2023-06-02T18:31:16.240Z"
   },
   {
    "duration": 2867,
    "start_time": "2023-06-02T18:31:47.268Z"
   },
   {
    "duration": 2984,
    "start_time": "2023-06-02T18:32:50.870Z"
   },
   {
    "duration": 2872,
    "start_time": "2023-06-02T19:32:33.191Z"
   },
   {
    "duration": 2825,
    "start_time": "2023-06-02T19:37:19.555Z"
   },
   {
    "duration": 2598,
    "start_time": "2023-06-02T19:37:53.533Z"
   },
   {
    "duration": 2847,
    "start_time": "2023-06-02T19:38:17.884Z"
   },
   {
    "duration": 2587,
    "start_time": "2023-06-02T19:38:43.953Z"
   },
   {
    "duration": 2604,
    "start_time": "2023-06-02T19:39:28.845Z"
   },
   {
    "duration": 2557,
    "start_time": "2023-06-02T19:39:40.495Z"
   },
   {
    "duration": 2640,
    "start_time": "2023-06-02T19:40:35.903Z"
   },
   {
    "duration": 2667,
    "start_time": "2023-06-02T19:41:46.836Z"
   },
   {
    "duration": 2775,
    "start_time": "2023-06-02T19:42:37.333Z"
   },
   {
    "duration": 2680,
    "start_time": "2023-06-02T19:43:26.794Z"
   },
   {
    "duration": 426,
    "start_time": "2023-06-02T19:50:32.339Z"
   },
   {
    "duration": 421,
    "start_time": "2023-06-02T19:52:07.051Z"
   },
   {
    "duration": 2557,
    "start_time": "2023-06-02T19:53:59.781Z"
   },
   {
    "duration": 2600,
    "start_time": "2023-06-02T19:54:34.631Z"
   },
   {
    "duration": 71,
    "start_time": "2023-06-02T19:59:32.078Z"
   },
   {
    "duration": 2840,
    "start_time": "2023-06-02T20:05:13.537Z"
   },
   {
    "duration": 2754,
    "start_time": "2023-06-02T20:05:34.266Z"
   },
   {
    "duration": 2537,
    "start_time": "2023-06-02T20:09:26.447Z"
   },
   {
    "duration": 2688,
    "start_time": "2023-06-02T20:09:39.986Z"
   },
   {
    "duration": 2746,
    "start_time": "2023-06-02T20:10:12.485Z"
   },
   {
    "duration": 508,
    "start_time": "2023-06-02T20:14:06.742Z"
   },
   {
    "duration": 10,
    "start_time": "2023-06-02T20:18:18.689Z"
   },
   {
    "duration": 4,
    "start_time": "2023-06-02T20:19:25.309Z"
   },
   {
    "duration": 31,
    "start_time": "2023-06-02T20:20:25.030Z"
   },
   {
    "duration": 16,
    "start_time": "2023-06-02T20:21:15.355Z"
   },
   {
    "duration": 23,
    "start_time": "2023-06-02T20:21:36.538Z"
   },
   {
    "duration": 37,
    "start_time": "2023-06-02T20:21:55.668Z"
   },
   {
    "duration": 638,
    "start_time": "2023-06-02T20:31:26.268Z"
   },
   {
    "duration": 49205,
    "start_time": "2023-06-02T20:31:37.340Z"
   },
   {
    "duration": 4862,
    "start_time": "2023-06-02T20:32:49.359Z"
   },
   {
    "duration": 4,
    "start_time": "2023-06-02T20:35:17.061Z"
   },
   {
    "duration": 74,
    "start_time": "2023-06-02T20:35:17.067Z"
   },
   {
    "duration": 14,
    "start_time": "2023-06-02T20:35:17.142Z"
   },
   {
    "duration": 38,
    "start_time": "2023-06-02T20:35:17.159Z"
   },
   {
    "duration": 41,
    "start_time": "2023-06-02T20:35:17.200Z"
   },
   {
    "duration": 8,
    "start_time": "2023-06-02T20:35:17.242Z"
   },
   {
    "duration": 14,
    "start_time": "2023-06-02T20:35:17.251Z"
   },
   {
    "duration": 11,
    "start_time": "2023-06-02T20:35:17.267Z"
   },
   {
    "duration": 3,
    "start_time": "2023-06-02T20:35:17.280Z"
   },
   {
    "duration": 22,
    "start_time": "2023-06-02T20:35:17.284Z"
   },
   {
    "duration": 4,
    "start_time": "2023-06-02T20:35:17.307Z"
   },
   {
    "duration": 50,
    "start_time": "2023-06-02T20:35:17.317Z"
   },
   {
    "duration": 9,
    "start_time": "2023-06-02T20:35:17.368Z"
   },
   {
    "duration": 7,
    "start_time": "2023-06-02T20:35:17.379Z"
   },
   {
    "duration": 18,
    "start_time": "2023-06-02T20:35:17.387Z"
   },
   {
    "duration": 30,
    "start_time": "2023-06-02T20:35:17.406Z"
   },
   {
    "duration": 18,
    "start_time": "2023-06-02T20:35:17.438Z"
   },
   {
    "duration": 13,
    "start_time": "2023-06-02T20:35:17.457Z"
   },
   {
    "duration": 11,
    "start_time": "2023-06-02T20:35:17.471Z"
   },
   {
    "duration": 34662,
    "start_time": "2023-06-02T20:35:17.483Z"
   },
   {
    "duration": 31,
    "start_time": "2023-06-02T20:35:52.146Z"
   },
   {
    "duration": 133,
    "start_time": "2023-06-02T20:35:52.242Z"
   },
   {
    "duration": 61,
    "start_time": "2023-06-02T20:35:52.377Z"
   },
   {
    "duration": 119,
    "start_time": "2023-06-02T20:35:52.440Z"
   },
   {
    "duration": 24,
    "start_time": "2023-06-02T20:35:52.560Z"
   },
   {
    "duration": 174,
    "start_time": "2023-06-02T20:35:52.586Z"
   },
   {
    "duration": 71,
    "start_time": "2023-06-02T20:35:52.762Z"
   },
   {
    "duration": 625,
    "start_time": "2023-06-02T20:35:52.836Z"
   },
   {
    "duration": 48650,
    "start_time": "2023-06-02T20:35:53.463Z"
   },
   {
    "duration": 4761,
    "start_time": "2023-06-02T20:36:42.114Z"
   },
   {
    "duration": 76,
    "start_time": "2023-06-02T20:36:46.878Z"
   },
   {
    "duration": 5343,
    "start_time": "2023-06-02T20:41:50.086Z"
   },
   {
    "duration": 1474,
    "start_time": "2023-06-03T21:21:49.794Z"
   },
   {
    "duration": 78,
    "start_time": "2023-06-03T21:21:51.270Z"
   },
   {
    "duration": 13,
    "start_time": "2023-06-03T21:21:51.350Z"
   },
   {
    "duration": 33,
    "start_time": "2023-06-03T21:21:51.365Z"
   },
   {
    "duration": 32,
    "start_time": "2023-06-03T21:21:51.400Z"
   },
   {
    "duration": 7,
    "start_time": "2023-06-03T21:21:51.433Z"
   },
   {
    "duration": 7,
    "start_time": "2023-06-03T21:21:51.441Z"
   },
   {
    "duration": 102,
    "start_time": "2023-06-03T21:21:51.449Z"
   },
   {
    "duration": 0,
    "start_time": "2023-06-03T21:21:51.553Z"
   },
   {
    "duration": 0,
    "start_time": "2023-06-03T21:21:51.554Z"
   },
   {
    "duration": 0,
    "start_time": "2023-06-03T21:21:51.555Z"
   },
   {
    "duration": 0,
    "start_time": "2023-06-03T21:21:51.556Z"
   },
   {
    "duration": 0,
    "start_time": "2023-06-03T21:21:51.557Z"
   },
   {
    "duration": 0,
    "start_time": "2023-06-03T21:21:51.558Z"
   },
   {
    "duration": 0,
    "start_time": "2023-06-03T21:21:51.559Z"
   },
   {
    "duration": 0,
    "start_time": "2023-06-03T21:21:51.560Z"
   },
   {
    "duration": 0,
    "start_time": "2023-06-03T21:21:51.561Z"
   },
   {
    "duration": 0,
    "start_time": "2023-06-03T21:21:51.562Z"
   },
   {
    "duration": 0,
    "start_time": "2023-06-03T21:21:51.563Z"
   },
   {
    "duration": 0,
    "start_time": "2023-06-03T21:21:51.564Z"
   },
   {
    "duration": 0,
    "start_time": "2023-06-03T21:21:51.565Z"
   },
   {
    "duration": 0,
    "start_time": "2023-06-03T21:21:51.566Z"
   },
   {
    "duration": 0,
    "start_time": "2023-06-03T21:21:51.567Z"
   },
   {
    "duration": 0,
    "start_time": "2023-06-03T21:21:51.568Z"
   },
   {
    "duration": 0,
    "start_time": "2023-06-03T21:21:51.569Z"
   },
   {
    "duration": 0,
    "start_time": "2023-06-03T21:21:51.570Z"
   },
   {
    "duration": 0,
    "start_time": "2023-06-03T21:21:51.571Z"
   },
   {
    "duration": 0,
    "start_time": "2023-06-03T21:21:51.571Z"
   },
   {
    "duration": 0,
    "start_time": "2023-06-03T21:21:51.573Z"
   },
   {
    "duration": 0,
    "start_time": "2023-06-03T21:21:51.573Z"
   },
   {
    "duration": 0,
    "start_time": "2023-06-03T21:21:51.575Z"
   },
   {
    "duration": 0,
    "start_time": "2023-06-03T21:21:51.576Z"
   },
   {
    "duration": 7,
    "start_time": "2023-06-03T21:45:32.297Z"
   },
   {
    "duration": 3,
    "start_time": "2023-06-03T21:45:54.563Z"
   },
   {
    "duration": 104,
    "start_time": "2023-06-03T21:46:04.353Z"
   },
   {
    "duration": 3,
    "start_time": "2023-06-03T21:46:12.610Z"
   },
   {
    "duration": 4,
    "start_time": "2023-06-03T21:46:48.706Z"
   },
   {
    "duration": 311,
    "start_time": "2023-06-03T21:46:50.460Z"
   },
   {
    "duration": 3,
    "start_time": "2023-06-03T21:47:10.011Z"
   },
   {
    "duration": 7,
    "start_time": "2023-06-03T21:47:18.677Z"
   },
   {
    "duration": 356,
    "start_time": "2023-06-03T21:47:27.155Z"
   },
   {
    "duration": 6,
    "start_time": "2023-06-03T21:50:12.157Z"
   },
   {
    "duration": 666,
    "start_time": "2023-06-03T21:51:05.003Z"
   },
   {
    "duration": 8,
    "start_time": "2023-06-03T21:51:17.254Z"
   },
   {
    "duration": 4,
    "start_time": "2023-06-03T21:51:19.598Z"
   },
   {
    "duration": 619,
    "start_time": "2023-06-03T21:51:32.150Z"
   },
   {
    "duration": 7,
    "start_time": "2023-06-03T21:51:41.531Z"
   },
   {
    "duration": 625,
    "start_time": "2023-06-03T21:56:23.797Z"
   },
   {
    "duration": 617,
    "start_time": "2023-06-03T21:57:05.074Z"
   },
   {
    "duration": 622,
    "start_time": "2023-06-03T21:57:44.708Z"
   },
   {
    "duration": 606,
    "start_time": "2023-06-03T21:57:52.704Z"
   },
   {
    "duration": 4,
    "start_time": "2023-06-03T21:58:31.540Z"
   },
   {
    "duration": 4,
    "start_time": "2023-06-03T22:01:13.861Z"
   },
   {
    "duration": 43,
    "start_time": "2023-06-03T22:01:13.866Z"
   },
   {
    "duration": 11,
    "start_time": "2023-06-03T22:01:13.910Z"
   },
   {
    "duration": 34,
    "start_time": "2023-06-03T22:01:13.922Z"
   },
   {
    "duration": 36,
    "start_time": "2023-06-03T22:01:13.958Z"
   },
   {
    "duration": 7,
    "start_time": "2023-06-03T22:01:13.995Z"
   },
   {
    "duration": 87,
    "start_time": "2023-06-03T22:01:14.004Z"
   },
   {
    "duration": 0,
    "start_time": "2023-06-03T22:01:14.093Z"
   },
   {
    "duration": 0,
    "start_time": "2023-06-03T22:01:14.095Z"
   },
   {
    "duration": 0,
    "start_time": "2023-06-03T22:01:14.096Z"
   },
   {
    "duration": 0,
    "start_time": "2023-06-03T22:01:14.097Z"
   },
   {
    "duration": 0,
    "start_time": "2023-06-03T22:01:14.099Z"
   },
   {
    "duration": 0,
    "start_time": "2023-06-03T22:01:14.100Z"
   },
   {
    "duration": 0,
    "start_time": "2023-06-03T22:01:14.101Z"
   },
   {
    "duration": 0,
    "start_time": "2023-06-03T22:01:14.102Z"
   },
   {
    "duration": 0,
    "start_time": "2023-06-03T22:01:14.104Z"
   },
   {
    "duration": 0,
    "start_time": "2023-06-03T22:01:14.105Z"
   },
   {
    "duration": 0,
    "start_time": "2023-06-03T22:01:14.106Z"
   },
   {
    "duration": 0,
    "start_time": "2023-06-03T22:01:14.107Z"
   },
   {
    "duration": 0,
    "start_time": "2023-06-03T22:01:14.109Z"
   },
   {
    "duration": 0,
    "start_time": "2023-06-03T22:01:14.110Z"
   },
   {
    "duration": 0,
    "start_time": "2023-06-03T22:01:14.111Z"
   },
   {
    "duration": 0,
    "start_time": "2023-06-03T22:01:14.112Z"
   },
   {
    "duration": 0,
    "start_time": "2023-06-03T22:01:14.114Z"
   },
   {
    "duration": 0,
    "start_time": "2023-06-03T22:01:14.115Z"
   },
   {
    "duration": 0,
    "start_time": "2023-06-03T22:01:14.116Z"
   },
   {
    "duration": 0,
    "start_time": "2023-06-03T22:01:14.117Z"
   },
   {
    "duration": 0,
    "start_time": "2023-06-03T22:01:14.118Z"
   },
   {
    "duration": 0,
    "start_time": "2023-06-03T22:01:14.120Z"
   },
   {
    "duration": 0,
    "start_time": "2023-06-03T22:01:14.121Z"
   },
   {
    "duration": 0,
    "start_time": "2023-06-03T22:01:14.122Z"
   },
   {
    "duration": 0,
    "start_time": "2023-06-03T22:01:14.124Z"
   },
   {
    "duration": 0,
    "start_time": "2023-06-03T22:01:14.125Z"
   },
   {
    "duration": 3,
    "start_time": "2023-06-03T22:02:05.595Z"
   },
   {
    "duration": 3,
    "start_time": "2023-06-03T22:02:13.567Z"
   },
   {
    "duration": 41,
    "start_time": "2023-06-03T22:02:13.575Z"
   },
   {
    "duration": 10,
    "start_time": "2023-06-03T22:02:13.618Z"
   },
   {
    "duration": 33,
    "start_time": "2023-06-03T22:02:13.630Z"
   },
   {
    "duration": 32,
    "start_time": "2023-06-03T22:02:13.664Z"
   },
   {
    "duration": 6,
    "start_time": "2023-06-03T22:02:13.697Z"
   },
   {
    "duration": 4,
    "start_time": "2023-06-03T22:02:13.704Z"
   },
   {
    "duration": 711,
    "start_time": "2023-06-03T22:02:13.709Z"
   },
   {
    "duration": 4,
    "start_time": "2023-06-03T22:02:14.421Z"
   },
   {
    "duration": 14,
    "start_time": "2023-06-03T22:02:14.426Z"
   },
   {
    "duration": 6,
    "start_time": "2023-06-03T22:02:14.441Z"
   },
   {
    "duration": 16,
    "start_time": "2023-06-03T22:02:14.448Z"
   },
   {
    "duration": 12,
    "start_time": "2023-06-03T22:02:14.466Z"
   },
   {
    "duration": 13,
    "start_time": "2023-06-03T22:02:14.479Z"
   },
   {
    "duration": 3,
    "start_time": "2023-06-03T22:02:14.494Z"
   },
   {
    "duration": 21,
    "start_time": "2023-06-03T22:02:14.498Z"
   },
   {
    "duration": 12,
    "start_time": "2023-06-03T22:02:14.520Z"
   },
   {
    "duration": 14,
    "start_time": "2023-06-03T22:02:14.533Z"
   },
   {
    "duration": 2,
    "start_time": "2023-06-03T22:02:14.549Z"
   },
   {
    "duration": 6,
    "start_time": "2023-06-03T22:02:14.553Z"
   },
   {
    "duration": 9,
    "start_time": "2023-06-03T22:02:14.561Z"
   },
   {
    "duration": 30832,
    "start_time": "2023-06-03T22:02:14.571Z"
   },
   {
    "duration": 33,
    "start_time": "2023-06-03T22:02:45.405Z"
   },
   {
    "duration": 138,
    "start_time": "2023-06-03T22:02:45.486Z"
   },
   {
    "duration": 60,
    "start_time": "2023-06-03T22:02:45.626Z"
   },
   {
    "duration": 100,
    "start_time": "2023-06-03T22:02:45.687Z"
   },
   {
    "duration": 22,
    "start_time": "2023-06-03T22:02:45.788Z"
   },
   {
    "duration": 74,
    "start_time": "2023-06-03T22:02:45.812Z"
   },
   {
    "duration": 127,
    "start_time": "2023-06-03T22:02:45.889Z"
   },
   {
    "duration": 673,
    "start_time": "2023-06-03T22:02:46.019Z"
   },
   {
    "duration": 0,
    "start_time": "2023-06-03T22:02:46.693Z"
   },
   {
    "duration": 0,
    "start_time": "2023-06-03T22:02:46.694Z"
   },
   {
    "duration": 0,
    "start_time": "2023-06-03T22:02:46.695Z"
   },
   {
    "duration": 3,
    "start_time": "2023-06-03T22:17:09.986Z"
   },
   {
    "duration": 14,
    "start_time": "2023-06-03T22:17:15.646Z"
   },
   {
    "duration": 4,
    "start_time": "2023-06-03T22:17:26.043Z"
   },
   {
    "duration": 4,
    "start_time": "2023-06-03T22:17:52.050Z"
   },
   {
    "duration": 3,
    "start_time": "2023-06-03T22:17:55.246Z"
   },
   {
    "duration": 4,
    "start_time": "2023-06-03T22:20:14.904Z"
   },
   {
    "duration": 8,
    "start_time": "2023-06-03T22:20:19.871Z"
   },
   {
    "duration": 3,
    "start_time": "2023-06-03T22:20:43.205Z"
   },
   {
    "duration": 6,
    "start_time": "2023-06-03T22:20:45.501Z"
   },
   {
    "duration": 1311,
    "start_time": "2023-06-03T22:25:18.718Z"
   },
   {
    "duration": 1553,
    "start_time": "2023-06-03T22:25:46.268Z"
   },
   {
    "duration": 1435,
    "start_time": "2023-06-03T22:25:52.613Z"
   },
   {
    "duration": 1302,
    "start_time": "2023-06-03T22:26:28.982Z"
   },
   {
    "duration": 4,
    "start_time": "2023-06-03T22:26:33.755Z"
   },
   {
    "duration": 43,
    "start_time": "2023-06-03T22:26:33.761Z"
   },
   {
    "duration": 10,
    "start_time": "2023-06-03T22:26:33.806Z"
   },
   {
    "duration": 94,
    "start_time": "2023-06-03T22:26:33.817Z"
   },
   {
    "duration": 30,
    "start_time": "2023-06-03T22:26:33.913Z"
   },
   {
    "duration": 6,
    "start_time": "2023-06-03T22:26:33.944Z"
   },
   {
    "duration": 28,
    "start_time": "2023-06-03T22:26:33.952Z"
   },
   {
    "duration": 22,
    "start_time": "2023-06-03T22:26:33.982Z"
   },
   {
    "duration": 23,
    "start_time": "2023-06-03T22:26:34.005Z"
   },
   {
    "duration": 11,
    "start_time": "2023-06-03T22:26:34.030Z"
   },
   {
    "duration": 18,
    "start_time": "2023-06-03T22:26:34.043Z"
   },
   {
    "duration": 23,
    "start_time": "2023-06-03T22:26:34.063Z"
   },
   {
    "duration": 22,
    "start_time": "2023-06-03T22:26:34.087Z"
   },
   {
    "duration": 13,
    "start_time": "2023-06-03T22:26:34.110Z"
   },
   {
    "duration": 13,
    "start_time": "2023-06-03T22:26:34.125Z"
   },
   {
    "duration": 22,
    "start_time": "2023-06-03T22:26:34.139Z"
   },
   {
    "duration": 16,
    "start_time": "2023-06-03T22:26:34.162Z"
   },
   {
    "duration": 15,
    "start_time": "2023-06-03T22:26:34.179Z"
   },
   {
    "duration": 17,
    "start_time": "2023-06-03T22:26:34.195Z"
   },
   {
    "duration": 31,
    "start_time": "2023-06-03T22:26:34.213Z"
   },
   {
    "duration": 41,
    "start_time": "2023-06-03T22:26:34.245Z"
   },
   {
    "duration": 0,
    "start_time": "2023-06-03T22:26:34.287Z"
   },
   {
    "duration": 1,
    "start_time": "2023-06-03T22:26:34.288Z"
   },
   {
    "duration": 0,
    "start_time": "2023-06-03T22:26:34.290Z"
   },
   {
    "duration": 0,
    "start_time": "2023-06-03T22:26:34.291Z"
   },
   {
    "duration": 0,
    "start_time": "2023-06-03T22:26:34.292Z"
   },
   {
    "duration": 0,
    "start_time": "2023-06-03T22:26:34.292Z"
   },
   {
    "duration": 0,
    "start_time": "2023-06-03T22:26:34.294Z"
   },
   {
    "duration": 0,
    "start_time": "2023-06-03T22:26:34.295Z"
   },
   {
    "duration": 0,
    "start_time": "2023-06-03T22:26:34.296Z"
   },
   {
    "duration": 0,
    "start_time": "2023-06-03T22:26:34.297Z"
   },
   {
    "duration": 0,
    "start_time": "2023-06-03T22:26:34.299Z"
   },
   {
    "duration": 6,
    "start_time": "2023-06-03T22:28:32.687Z"
   },
   {
    "duration": 4,
    "start_time": "2023-06-03T22:28:39.472Z"
   },
   {
    "duration": 7,
    "start_time": "2023-06-03T22:28:43.249Z"
   },
   {
    "duration": 7,
    "start_time": "2023-06-03T22:28:46.775Z"
   },
   {
    "duration": 11,
    "start_time": "2023-06-03T22:33:44.526Z"
   },
   {
    "duration": 11,
    "start_time": "2023-06-03T22:34:35.909Z"
   },
   {
    "duration": 1414,
    "start_time": "2023-06-03T22:36:58.396Z"
   },
   {
    "duration": 1245,
    "start_time": "2023-06-03T22:37:40.479Z"
   },
   {
    "duration": 12,
    "start_time": "2023-06-03T22:38:05.588Z"
   },
   {
    "duration": 3,
    "start_time": "2023-06-03T22:38:21.275Z"
   },
   {
    "duration": 6,
    "start_time": "2023-06-03T22:38:28.601Z"
   },
   {
    "duration": 7,
    "start_time": "2023-06-03T22:38:30.424Z"
   },
   {
    "duration": 11,
    "start_time": "2023-06-03T22:38:46.660Z"
   },
   {
    "duration": 14,
    "start_time": "2023-06-03T22:38:56.454Z"
   },
   {
    "duration": 14,
    "start_time": "2023-06-03T22:40:16.601Z"
   },
   {
    "duration": 21,
    "start_time": "2023-06-03T22:41:25.869Z"
   },
   {
    "duration": 16,
    "start_time": "2023-06-03T22:41:52.710Z"
   },
   {
    "duration": 87,
    "start_time": "2023-06-03T22:42:27.842Z"
   },
   {
    "duration": 1362,
    "start_time": "2023-06-03T22:44:10.259Z"
   },
   {
    "duration": 40,
    "start_time": "2023-06-03T22:44:11.622Z"
   },
   {
    "duration": 15,
    "start_time": "2023-06-03T22:44:11.663Z"
   },
   {
    "duration": 39,
    "start_time": "2023-06-03T22:44:11.680Z"
   },
   {
    "duration": 30,
    "start_time": "2023-06-03T22:44:11.721Z"
   },
   {
    "duration": 6,
    "start_time": "2023-06-03T22:44:11.753Z"
   },
   {
    "duration": 18,
    "start_time": "2023-06-03T22:44:11.761Z"
   },
   {
    "duration": 13,
    "start_time": "2023-06-03T22:44:11.780Z"
   },
   {
    "duration": 38,
    "start_time": "2023-06-03T22:44:11.794Z"
   },
   {
    "duration": 3,
    "start_time": "2023-06-03T22:44:11.835Z"
   },
   {
    "duration": 15,
    "start_time": "2023-06-03T22:44:11.839Z"
   },
   {
    "duration": 5,
    "start_time": "2023-06-03T22:44:11.856Z"
   },
   {
    "duration": 6,
    "start_time": "2023-06-03T22:44:11.862Z"
   },
   {
    "duration": 12,
    "start_time": "2023-06-03T22:44:11.869Z"
   },
   {
    "duration": 6,
    "start_time": "2023-06-03T22:44:11.882Z"
   },
   {
    "duration": 18,
    "start_time": "2023-06-03T22:44:11.889Z"
   },
   {
    "duration": 18,
    "start_time": "2023-06-03T22:44:11.908Z"
   },
   {
    "duration": 2,
    "start_time": "2023-06-03T22:44:11.928Z"
   },
   {
    "duration": 15,
    "start_time": "2023-06-03T22:44:11.931Z"
   },
   {
    "duration": 16,
    "start_time": "2023-06-03T22:44:11.947Z"
   },
   {
    "duration": 118,
    "start_time": "2023-06-03T22:44:11.964Z"
   },
   {
    "duration": 0,
    "start_time": "2023-06-03T22:44:12.083Z"
   },
   {
    "duration": 0,
    "start_time": "2023-06-03T22:44:12.084Z"
   },
   {
    "duration": 0,
    "start_time": "2023-06-03T22:44:12.085Z"
   },
   {
    "duration": 0,
    "start_time": "2023-06-03T22:44:12.085Z"
   },
   {
    "duration": 0,
    "start_time": "2023-06-03T22:44:12.086Z"
   },
   {
    "duration": 0,
    "start_time": "2023-06-03T22:44:12.086Z"
   },
   {
    "duration": 0,
    "start_time": "2023-06-03T22:44:12.087Z"
   },
   {
    "duration": 0,
    "start_time": "2023-06-03T22:44:12.088Z"
   },
   {
    "duration": 0,
    "start_time": "2023-06-03T22:44:12.089Z"
   },
   {
    "duration": 0,
    "start_time": "2023-06-03T22:44:12.090Z"
   },
   {
    "duration": 0,
    "start_time": "2023-06-03T22:44:12.091Z"
   },
   {
    "duration": 98,
    "start_time": "2023-06-03T22:47:03.161Z"
   },
   {
    "duration": 3,
    "start_time": "2023-06-03T22:47:48.530Z"
   },
   {
    "duration": 3,
    "start_time": "2023-06-03T22:48:01.215Z"
   },
   {
    "duration": 4,
    "start_time": "2023-06-03T22:48:06.962Z"
   },
   {
    "duration": 51,
    "start_time": "2023-06-03T22:48:06.967Z"
   },
   {
    "duration": 12,
    "start_time": "2023-06-03T22:48:07.020Z"
   },
   {
    "duration": 49,
    "start_time": "2023-06-03T22:48:07.033Z"
   },
   {
    "duration": 34,
    "start_time": "2023-06-03T22:48:07.084Z"
   },
   {
    "duration": 6,
    "start_time": "2023-06-03T22:48:07.119Z"
   },
   {
    "duration": 6,
    "start_time": "2023-06-03T22:48:07.126Z"
   },
   {
    "duration": 4,
    "start_time": "2023-06-03T22:48:07.133Z"
   },
   {
    "duration": 18,
    "start_time": "2023-06-03T22:48:07.138Z"
   },
   {
    "duration": 4,
    "start_time": "2023-06-03T22:48:07.157Z"
   },
   {
    "duration": 30,
    "start_time": "2023-06-03T22:48:07.162Z"
   },
   {
    "duration": 8,
    "start_time": "2023-06-03T22:48:07.193Z"
   },
   {
    "duration": 15,
    "start_time": "2023-06-03T22:48:07.202Z"
   },
   {
    "duration": 10,
    "start_time": "2023-06-03T22:48:07.219Z"
   },
   {
    "duration": 14,
    "start_time": "2023-06-03T22:48:07.231Z"
   },
   {
    "duration": 25,
    "start_time": "2023-06-03T22:48:07.246Z"
   },
   {
    "duration": 26,
    "start_time": "2023-06-03T22:48:07.272Z"
   },
   {
    "duration": 17,
    "start_time": "2023-06-03T22:48:07.299Z"
   },
   {
    "duration": 0,
    "start_time": "2023-06-03T22:48:07.318Z"
   },
   {
    "duration": 0,
    "start_time": "2023-06-03T22:48:07.319Z"
   },
   {
    "duration": 0,
    "start_time": "2023-06-03T22:48:07.320Z"
   },
   {
    "duration": 0,
    "start_time": "2023-06-03T22:48:07.321Z"
   },
   {
    "duration": 0,
    "start_time": "2023-06-03T22:48:07.322Z"
   },
   {
    "duration": 0,
    "start_time": "2023-06-03T22:48:07.322Z"
   },
   {
    "duration": 0,
    "start_time": "2023-06-03T22:48:07.323Z"
   },
   {
    "duration": 0,
    "start_time": "2023-06-03T22:48:07.324Z"
   },
   {
    "duration": 0,
    "start_time": "2023-06-03T22:48:07.325Z"
   },
   {
    "duration": 0,
    "start_time": "2023-06-03T22:48:07.326Z"
   },
   {
    "duration": 0,
    "start_time": "2023-06-03T22:48:07.327Z"
   },
   {
    "duration": 0,
    "start_time": "2023-06-03T22:48:07.328Z"
   },
   {
    "duration": 0,
    "start_time": "2023-06-03T22:48:07.329Z"
   },
   {
    "duration": 0,
    "start_time": "2023-06-03T22:48:07.329Z"
   },
   {
    "duration": 25,
    "start_time": "2023-06-03T22:49:59.529Z"
   },
   {
    "duration": 4,
    "start_time": "2023-06-03T22:50:19.665Z"
   },
   {
    "duration": 50,
    "start_time": "2023-06-03T22:50:19.672Z"
   },
   {
    "duration": 12,
    "start_time": "2023-06-03T22:50:19.724Z"
   },
   {
    "duration": 48,
    "start_time": "2023-06-03T22:50:19.738Z"
   },
   {
    "duration": 33,
    "start_time": "2023-06-03T22:50:19.788Z"
   },
   {
    "duration": 7,
    "start_time": "2023-06-03T22:50:19.822Z"
   },
   {
    "duration": 4,
    "start_time": "2023-06-03T22:50:19.830Z"
   },
   {
    "duration": 5,
    "start_time": "2023-06-03T22:50:19.836Z"
   },
   {
    "duration": 11,
    "start_time": "2023-06-03T22:50:19.843Z"
   },
   {
    "duration": 31,
    "start_time": "2023-06-03T22:50:19.855Z"
   },
   {
    "duration": 15,
    "start_time": "2023-06-03T22:50:19.888Z"
   },
   {
    "duration": 4,
    "start_time": "2023-06-03T22:50:19.904Z"
   },
   {
    "duration": 6,
    "start_time": "2023-06-03T22:50:19.910Z"
   },
   {
    "duration": 8,
    "start_time": "2023-06-03T22:50:19.917Z"
   },
   {
    "duration": 6,
    "start_time": "2023-06-03T22:50:19.926Z"
   },
   {
    "duration": 13,
    "start_time": "2023-06-03T22:50:19.933Z"
   },
   {
    "duration": 56,
    "start_time": "2023-06-03T22:50:19.947Z"
   },
   {
    "duration": 0,
    "start_time": "2023-06-03T22:50:20.005Z"
   },
   {
    "duration": 0,
    "start_time": "2023-06-03T22:50:20.006Z"
   },
   {
    "duration": 0,
    "start_time": "2023-06-03T22:50:20.007Z"
   },
   {
    "duration": 0,
    "start_time": "2023-06-03T22:50:20.008Z"
   },
   {
    "duration": 0,
    "start_time": "2023-06-03T22:50:20.009Z"
   },
   {
    "duration": 0,
    "start_time": "2023-06-03T22:50:20.010Z"
   },
   {
    "duration": 0,
    "start_time": "2023-06-03T22:50:20.010Z"
   },
   {
    "duration": 0,
    "start_time": "2023-06-03T22:50:20.011Z"
   },
   {
    "duration": 0,
    "start_time": "2023-06-03T22:50:20.012Z"
   },
   {
    "duration": 0,
    "start_time": "2023-06-03T22:50:20.012Z"
   },
   {
    "duration": 0,
    "start_time": "2023-06-03T22:50:20.013Z"
   },
   {
    "duration": 0,
    "start_time": "2023-06-03T22:50:20.014Z"
   },
   {
    "duration": 0,
    "start_time": "2023-06-03T22:50:20.015Z"
   },
   {
    "duration": 0,
    "start_time": "2023-06-03T22:50:20.016Z"
   },
   {
    "duration": 0,
    "start_time": "2023-06-03T22:50:20.016Z"
   },
   {
    "duration": 15,
    "start_time": "2023-06-03T23:03:14.122Z"
   },
   {
    "duration": 11,
    "start_time": "2023-06-03T23:03:32.053Z"
   },
   {
    "duration": 5,
    "start_time": "2023-06-03T23:03:39.406Z"
   },
   {
    "duration": 52,
    "start_time": "2023-06-03T23:03:39.412Z"
   },
   {
    "duration": 11,
    "start_time": "2023-06-03T23:03:39.465Z"
   },
   {
    "duration": 46,
    "start_time": "2023-06-03T23:03:39.477Z"
   },
   {
    "duration": 32,
    "start_time": "2023-06-03T23:03:39.526Z"
   },
   {
    "duration": 6,
    "start_time": "2023-06-03T23:03:39.560Z"
   },
   {
    "duration": 18,
    "start_time": "2023-06-03T23:03:39.567Z"
   },
   {
    "duration": 9,
    "start_time": "2023-06-03T23:03:39.586Z"
   },
   {
    "duration": 10,
    "start_time": "2023-06-03T23:03:39.596Z"
   },
   {
    "duration": 7,
    "start_time": "2023-06-03T23:03:39.607Z"
   },
   {
    "duration": 12,
    "start_time": "2023-06-03T23:03:39.616Z"
   },
   {
    "duration": 6,
    "start_time": "2023-06-03T23:03:39.629Z"
   },
   {
    "duration": 5,
    "start_time": "2023-06-03T23:03:39.636Z"
   },
   {
    "duration": 7,
    "start_time": "2023-06-03T23:03:39.643Z"
   },
   {
    "duration": 10,
    "start_time": "2023-06-03T23:03:39.651Z"
   },
   {
    "duration": 38,
    "start_time": "2023-06-03T23:03:39.662Z"
   },
   {
    "duration": 25,
    "start_time": "2023-06-03T23:03:39.702Z"
   },
   {
    "duration": 0,
    "start_time": "2023-06-03T23:03:39.729Z"
   },
   {
    "duration": 0,
    "start_time": "2023-06-03T23:03:39.730Z"
   },
   {
    "duration": 0,
    "start_time": "2023-06-03T23:03:39.732Z"
   },
   {
    "duration": 0,
    "start_time": "2023-06-03T23:03:39.733Z"
   },
   {
    "duration": 0,
    "start_time": "2023-06-03T23:03:39.734Z"
   },
   {
    "duration": 0,
    "start_time": "2023-06-03T23:03:39.735Z"
   },
   {
    "duration": 0,
    "start_time": "2023-06-03T23:03:39.736Z"
   },
   {
    "duration": 0,
    "start_time": "2023-06-03T23:03:39.737Z"
   },
   {
    "duration": 0,
    "start_time": "2023-06-03T23:03:39.738Z"
   },
   {
    "duration": 0,
    "start_time": "2023-06-03T23:03:39.739Z"
   },
   {
    "duration": 0,
    "start_time": "2023-06-03T23:03:39.740Z"
   },
   {
    "duration": 0,
    "start_time": "2023-06-03T23:03:39.741Z"
   },
   {
    "duration": 0,
    "start_time": "2023-06-03T23:03:39.742Z"
   },
   {
    "duration": 0,
    "start_time": "2023-06-03T23:03:39.743Z"
   },
   {
    "duration": 0,
    "start_time": "2023-06-03T23:03:39.744Z"
   },
   {
    "duration": 0,
    "start_time": "2023-06-03T23:03:39.745Z"
   },
   {
    "duration": 5,
    "start_time": "2023-06-03T23:03:55.382Z"
   },
   {
    "duration": 62,
    "start_time": "2023-06-03T23:03:55.389Z"
   },
   {
    "duration": 13,
    "start_time": "2023-06-03T23:03:55.453Z"
   },
   {
    "duration": 46,
    "start_time": "2023-06-03T23:03:55.467Z"
   },
   {
    "duration": 37,
    "start_time": "2023-06-03T23:03:55.515Z"
   },
   {
    "duration": 8,
    "start_time": "2023-06-03T23:03:55.553Z"
   },
   {
    "duration": 45,
    "start_time": "2023-06-03T23:03:55.563Z"
   },
   {
    "duration": 7,
    "start_time": "2023-06-03T23:03:55.610Z"
   },
   {
    "duration": 11,
    "start_time": "2023-06-03T23:03:55.619Z"
   },
   {
    "duration": 5,
    "start_time": "2023-06-03T23:03:55.632Z"
   },
   {
    "duration": 14,
    "start_time": "2023-06-03T23:03:55.639Z"
   },
   {
    "duration": 4,
    "start_time": "2023-06-03T23:03:55.654Z"
   },
   {
    "duration": 8,
    "start_time": "2023-06-03T23:03:55.660Z"
   },
   {
    "duration": 17,
    "start_time": "2023-06-03T23:03:55.669Z"
   },
   {
    "duration": 8,
    "start_time": "2023-06-03T23:03:55.687Z"
   },
   {
    "duration": 13,
    "start_time": "2023-06-03T23:03:55.696Z"
   },
   {
    "duration": 15,
    "start_time": "2023-06-03T23:03:55.710Z"
   },
   {
    "duration": 10,
    "start_time": "2023-06-03T23:03:55.727Z"
   },
   {
    "duration": 0,
    "start_time": "2023-06-03T23:03:55.739Z"
   },
   {
    "duration": 0,
    "start_time": "2023-06-03T23:03:55.739Z"
   },
   {
    "duration": 0,
    "start_time": "2023-06-03T23:03:55.740Z"
   },
   {
    "duration": 0,
    "start_time": "2023-06-03T23:03:55.741Z"
   },
   {
    "duration": 0,
    "start_time": "2023-06-03T23:03:55.742Z"
   },
   {
    "duration": 0,
    "start_time": "2023-06-03T23:03:55.743Z"
   },
   {
    "duration": 0,
    "start_time": "2023-06-03T23:03:55.744Z"
   },
   {
    "duration": 0,
    "start_time": "2023-06-03T23:03:55.745Z"
   },
   {
    "duration": 0,
    "start_time": "2023-06-03T23:03:55.745Z"
   },
   {
    "duration": 0,
    "start_time": "2023-06-03T23:03:55.785Z"
   },
   {
    "duration": 0,
    "start_time": "2023-06-03T23:03:55.786Z"
   },
   {
    "duration": 0,
    "start_time": "2023-06-03T23:03:55.787Z"
   },
   {
    "duration": 0,
    "start_time": "2023-06-03T23:03:55.788Z"
   },
   {
    "duration": 0,
    "start_time": "2023-06-03T23:03:55.789Z"
   },
   {
    "duration": 16,
    "start_time": "2023-06-03T23:04:53.356Z"
   },
   {
    "duration": 16,
    "start_time": "2023-06-03T23:05:00.405Z"
   },
   {
    "duration": 4,
    "start_time": "2023-06-03T23:05:56.635Z"
   },
   {
    "duration": 4,
    "start_time": "2023-06-03T23:06:01.179Z"
   },
   {
    "duration": 65,
    "start_time": "2023-06-03T23:06:01.185Z"
   },
   {
    "duration": 71,
    "start_time": "2023-06-03T23:06:01.252Z"
   },
   {
    "duration": 59,
    "start_time": "2023-06-03T23:06:01.325Z"
   },
   {
    "duration": 30,
    "start_time": "2023-06-03T23:06:01.385Z"
   },
   {
    "duration": 10,
    "start_time": "2023-06-03T23:06:01.416Z"
   },
   {
    "duration": 30,
    "start_time": "2023-06-03T23:06:01.427Z"
   },
   {
    "duration": 45,
    "start_time": "2023-06-03T23:06:01.458Z"
   },
   {
    "duration": 33,
    "start_time": "2023-06-03T23:06:01.504Z"
   },
   {
    "duration": 34,
    "start_time": "2023-06-03T23:06:01.539Z"
   },
   {
    "duration": 40,
    "start_time": "2023-06-03T23:06:01.575Z"
   },
   {
    "duration": 26,
    "start_time": "2023-06-03T23:06:01.616Z"
   },
   {
    "duration": 26,
    "start_time": "2023-06-03T23:06:01.643Z"
   },
   {
    "duration": 42,
    "start_time": "2023-06-03T23:06:01.670Z"
   },
   {
    "duration": 31,
    "start_time": "2023-06-03T23:06:01.714Z"
   },
   {
    "duration": 75,
    "start_time": "2023-06-03T23:06:01.747Z"
   },
   {
    "duration": 48,
    "start_time": "2023-06-03T23:06:01.824Z"
   },
   {
    "duration": 5,
    "start_time": "2023-06-03T23:06:01.874Z"
   },
   {
    "duration": 18,
    "start_time": "2023-06-03T23:06:01.880Z"
   },
   {
    "duration": 53,
    "start_time": "2023-06-03T23:06:01.900Z"
   },
   {
    "duration": 61,
    "start_time": "2023-06-03T23:06:01.954Z"
   },
   {
    "duration": 0,
    "start_time": "2023-06-03T23:06:02.017Z"
   },
   {
    "duration": 0,
    "start_time": "2023-06-03T23:06:02.018Z"
   },
   {
    "duration": 0,
    "start_time": "2023-06-03T23:06:02.019Z"
   },
   {
    "duration": 0,
    "start_time": "2023-06-03T23:06:02.020Z"
   },
   {
    "duration": 0,
    "start_time": "2023-06-03T23:06:02.021Z"
   },
   {
    "duration": 0,
    "start_time": "2023-06-03T23:06:02.022Z"
   },
   {
    "duration": 0,
    "start_time": "2023-06-03T23:06:02.023Z"
   },
   {
    "duration": 0,
    "start_time": "2023-06-03T23:06:02.023Z"
   },
   {
    "duration": 0,
    "start_time": "2023-06-03T23:06:02.024Z"
   },
   {
    "duration": 0,
    "start_time": "2023-06-03T23:06:02.025Z"
   },
   {
    "duration": 0,
    "start_time": "2023-06-03T23:06:02.026Z"
   },
   {
    "duration": 18,
    "start_time": "2023-06-03T23:07:15.594Z"
   },
   {
    "duration": 12,
    "start_time": "2023-06-03T23:07:29.410Z"
   },
   {
    "duration": 23,
    "start_time": "2023-06-03T23:09:35.398Z"
   },
   {
    "duration": 23,
    "start_time": "2023-06-03T23:09:48.831Z"
   },
   {
    "duration": 19,
    "start_time": "2023-06-03T23:11:18.913Z"
   },
   {
    "duration": 18,
    "start_time": "2023-06-03T23:11:28.750Z"
   },
   {
    "duration": 19,
    "start_time": "2023-06-03T23:23:02.435Z"
   },
   {
    "duration": 19,
    "start_time": "2023-06-03T23:34:00.711Z"
   },
   {
    "duration": 18,
    "start_time": "2023-06-03T23:34:11.973Z"
   },
   {
    "duration": 3,
    "start_time": "2023-06-03T23:34:18.645Z"
   },
   {
    "duration": 4,
    "start_time": "2023-06-03T23:34:23.652Z"
   },
   {
    "duration": 42,
    "start_time": "2023-06-03T23:34:23.658Z"
   },
   {
    "duration": 10,
    "start_time": "2023-06-03T23:34:23.702Z"
   },
   {
    "duration": 35,
    "start_time": "2023-06-03T23:34:23.713Z"
   },
   {
    "duration": 44,
    "start_time": "2023-06-03T23:34:23.750Z"
   },
   {
    "duration": 6,
    "start_time": "2023-06-03T23:34:23.795Z"
   },
   {
    "duration": 6,
    "start_time": "2023-06-03T23:34:23.803Z"
   },
   {
    "duration": 6,
    "start_time": "2023-06-03T23:34:23.810Z"
   },
   {
    "duration": 16,
    "start_time": "2023-06-03T23:34:23.817Z"
   },
   {
    "duration": 3,
    "start_time": "2023-06-03T23:34:23.834Z"
   },
   {
    "duration": 14,
    "start_time": "2023-06-03T23:34:23.839Z"
   },
   {
    "duration": 3,
    "start_time": "2023-06-03T23:34:23.854Z"
   },
   {
    "duration": 7,
    "start_time": "2023-06-03T23:34:23.858Z"
   },
   {
    "duration": 22,
    "start_time": "2023-06-03T23:34:23.866Z"
   },
   {
    "duration": 5,
    "start_time": "2023-06-03T23:34:23.889Z"
   },
   {
    "duration": 21,
    "start_time": "2023-06-03T23:34:23.895Z"
   },
   {
    "duration": 10,
    "start_time": "2023-06-03T23:34:23.917Z"
   },
   {
    "duration": 8,
    "start_time": "2023-06-03T23:34:23.928Z"
   },
   {
    "duration": 7,
    "start_time": "2023-06-03T23:34:23.937Z"
   },
   {
    "duration": 6,
    "start_time": "2023-06-03T23:34:23.945Z"
   },
   {
    "duration": 33513,
    "start_time": "2023-06-03T23:34:23.952Z"
   },
   {
    "duration": 22,
    "start_time": "2023-06-03T23:34:57.466Z"
   },
   {
    "duration": 253,
    "start_time": "2023-06-03T23:34:57.490Z"
   },
   {
    "duration": 0,
    "start_time": "2023-06-03T23:34:57.745Z"
   },
   {
    "duration": 1,
    "start_time": "2023-06-03T23:34:57.745Z"
   },
   {
    "duration": 0,
    "start_time": "2023-06-03T23:34:57.747Z"
   },
   {
    "duration": 0,
    "start_time": "2023-06-03T23:34:57.748Z"
   },
   {
    "duration": 0,
    "start_time": "2023-06-03T23:34:57.749Z"
   },
   {
    "duration": 0,
    "start_time": "2023-06-03T23:34:57.751Z"
   },
   {
    "duration": 0,
    "start_time": "2023-06-03T23:34:57.752Z"
   },
   {
    "duration": 0,
    "start_time": "2023-06-03T23:34:57.753Z"
   },
   {
    "duration": 0,
    "start_time": "2023-06-03T23:34:57.754Z"
   },
   {
    "duration": 3,
    "start_time": "2023-06-03T23:36:40.650Z"
   },
   {
    "duration": 62,
    "start_time": "2023-06-03T23:36:51.295Z"
   },
   {
    "duration": 60,
    "start_time": "2023-06-03T23:36:56.386Z"
   },
   {
    "duration": 71,
    "start_time": "2023-06-03T23:37:24.988Z"
   },
   {
    "duration": 4,
    "start_time": "2023-06-03T23:37:35.290Z"
   },
   {
    "duration": 3,
    "start_time": "2023-06-04T00:00:42.181Z"
   },
   {
    "duration": 51,
    "start_time": "2023-06-04T00:00:42.186Z"
   },
   {
    "duration": 10,
    "start_time": "2023-06-04T00:00:42.238Z"
   },
   {
    "duration": 38,
    "start_time": "2023-06-04T00:00:42.249Z"
   },
   {
    "duration": 29,
    "start_time": "2023-06-04T00:00:42.289Z"
   },
   {
    "duration": 6,
    "start_time": "2023-06-04T00:00:42.319Z"
   },
   {
    "duration": 13,
    "start_time": "2023-06-04T00:00:42.327Z"
   },
   {
    "duration": 13,
    "start_time": "2023-06-04T00:00:42.341Z"
   },
   {
    "duration": 21,
    "start_time": "2023-06-04T00:00:42.355Z"
   },
   {
    "duration": 11,
    "start_time": "2023-06-04T00:00:42.377Z"
   },
   {
    "duration": 20,
    "start_time": "2023-06-04T00:00:42.389Z"
   },
   {
    "duration": 13,
    "start_time": "2023-06-04T00:00:42.410Z"
   },
   {
    "duration": 23,
    "start_time": "2023-06-04T00:00:42.424Z"
   },
   {
    "duration": 13,
    "start_time": "2023-06-04T00:00:42.449Z"
   },
   {
    "duration": 18,
    "start_time": "2023-06-04T00:00:42.463Z"
   },
   {
    "duration": 33,
    "start_time": "2023-06-04T00:00:42.483Z"
   },
   {
    "duration": 27,
    "start_time": "2023-06-04T00:00:42.518Z"
   },
   {
    "duration": 10,
    "start_time": "2023-06-04T00:00:42.547Z"
   },
   {
    "duration": 19,
    "start_time": "2023-06-04T00:00:42.559Z"
   },
   {
    "duration": 17,
    "start_time": "2023-06-04T00:00:42.580Z"
   },
   {
    "duration": 4,
    "start_time": "2023-06-04T00:01:22.628Z"
   },
   {
    "duration": 61,
    "start_time": "2023-06-04T00:01:22.633Z"
   },
   {
    "duration": 11,
    "start_time": "2023-06-04T00:01:22.695Z"
   },
   {
    "duration": 47,
    "start_time": "2023-06-04T00:01:22.708Z"
   },
   {
    "duration": 26,
    "start_time": "2023-06-04T00:01:22.842Z"
   },
   {
    "duration": 17,
    "start_time": "2023-06-04T00:01:22.869Z"
   },
   {
    "duration": 32668,
    "start_time": "2023-06-04T00:01:23.055Z"
   },
   {
    "duration": 13,
    "start_time": "2023-06-04T00:01:55.725Z"
   },
   {
    "duration": 231,
    "start_time": "2023-06-04T00:01:55.740Z"
   },
   {
    "duration": 0,
    "start_time": "2023-06-04T00:01:55.972Z"
   },
   {
    "duration": 5,
    "start_time": "2023-06-04T00:08:20.191Z"
   },
   {
    "duration": 64,
    "start_time": "2023-06-04T00:09:26.590Z"
   },
   {
    "duration": 69,
    "start_time": "2023-06-04T00:09:47.764Z"
   },
   {
    "duration": 3,
    "start_time": "2023-06-04T00:10:03.257Z"
   },
   {
    "duration": 72,
    "start_time": "2023-06-04T00:10:03.262Z"
   },
   {
    "duration": 11,
    "start_time": "2023-06-04T00:10:03.335Z"
   },
   {
    "duration": 52,
    "start_time": "2023-06-04T00:10:03.349Z"
   },
   {
    "duration": 38,
    "start_time": "2023-06-04T00:10:03.402Z"
   },
   {
    "duration": 6,
    "start_time": "2023-06-04T00:10:03.441Z"
   },
   {
    "duration": 43,
    "start_time": "2023-06-04T00:10:03.449Z"
   },
   {
    "duration": 33,
    "start_time": "2023-06-04T00:10:03.494Z"
   },
   {
    "duration": 30,
    "start_time": "2023-06-04T00:10:03.528Z"
   },
   {
    "duration": 33,
    "start_time": "2023-06-04T00:10:03.560Z"
   },
   {
    "duration": 36,
    "start_time": "2023-06-04T00:10:03.595Z"
   },
   {
    "duration": 25,
    "start_time": "2023-06-04T00:10:03.632Z"
   },
   {
    "duration": 36,
    "start_time": "2023-06-04T00:10:03.658Z"
   },
   {
    "duration": 23,
    "start_time": "2023-06-04T00:10:03.696Z"
   },
   {
    "duration": 36,
    "start_time": "2023-06-04T00:10:03.721Z"
   },
   {
    "duration": 42,
    "start_time": "2023-06-04T00:10:03.759Z"
   },
   {
    "duration": 15,
    "start_time": "2023-06-04T00:10:03.803Z"
   },
   {
    "duration": 5,
    "start_time": "2023-06-04T00:10:03.819Z"
   },
   {
    "duration": 29,
    "start_time": "2023-06-04T00:10:03.825Z"
   },
   {
    "duration": 28,
    "start_time": "2023-06-04T00:10:03.856Z"
   },
   {
    "duration": 33139,
    "start_time": "2023-06-04T00:10:03.886Z"
   },
   {
    "duration": 64,
    "start_time": "2023-06-04T00:10:37.026Z"
   },
   {
    "duration": 95,
    "start_time": "2023-06-04T00:10:37.092Z"
   },
   {
    "duration": 70,
    "start_time": "2023-06-04T00:10:37.189Z"
   },
   {
    "duration": 73,
    "start_time": "2023-06-04T00:10:37.260Z"
   },
   {
    "duration": 3,
    "start_time": "2023-06-04T00:10:37.334Z"
   },
   {
    "duration": 5,
    "start_time": "2023-06-04T00:10:37.339Z"
   },
   {
    "duration": 87,
    "start_time": "2023-06-04T00:10:37.347Z"
   },
   {
    "duration": 0,
    "start_time": "2023-06-04T00:10:37.436Z"
   },
   {
    "duration": 0,
    "start_time": "2023-06-04T00:10:37.436Z"
   },
   {
    "duration": 0,
    "start_time": "2023-06-04T00:10:37.438Z"
   },
   {
    "duration": 0,
    "start_time": "2023-06-04T00:10:37.438Z"
   },
   {
    "duration": 0,
    "start_time": "2023-06-04T00:10:37.439Z"
   },
   {
    "duration": 0,
    "start_time": "2023-06-04T00:10:37.440Z"
   },
   {
    "duration": 61,
    "start_time": "2023-06-04T00:12:04.562Z"
   },
   {
    "duration": 5,
    "start_time": "2023-06-04T00:12:24.607Z"
   },
   {
    "duration": 3,
    "start_time": "2023-06-04T00:12:27.693Z"
   },
   {
    "duration": 65,
    "start_time": "2023-06-04T00:13:08.344Z"
   },
   {
    "duration": 58,
    "start_time": "2023-06-04T00:13:16.534Z"
   },
   {
    "duration": 3,
    "start_time": "2023-06-04T00:13:33.820Z"
   },
   {
    "duration": 3,
    "start_time": "2023-06-04T00:14:43.493Z"
   },
   {
    "duration": 4,
    "start_time": "2023-06-04T00:14:59.807Z"
   },
   {
    "duration": 3,
    "start_time": "2023-06-04T00:15:03.466Z"
   },
   {
    "duration": 60,
    "start_time": "2023-06-04T00:16:42.003Z"
   },
   {
    "duration": 3,
    "start_time": "2023-06-04T00:16:46.911Z"
   },
   {
    "duration": 5,
    "start_time": "2023-06-04T00:16:57.559Z"
   },
   {
    "duration": 10,
    "start_time": "2023-06-04T00:17:25.135Z"
   },
   {
    "duration": 10,
    "start_time": "2023-06-04T00:18:02.094Z"
   },
   {
    "duration": 5,
    "start_time": "2023-06-04T00:18:57.023Z"
   },
   {
    "duration": 54,
    "start_time": "2023-06-04T00:18:57.029Z"
   },
   {
    "duration": 11,
    "start_time": "2023-06-04T00:18:57.085Z"
   },
   {
    "duration": 35,
    "start_time": "2023-06-04T00:18:57.099Z"
   },
   {
    "duration": 50,
    "start_time": "2023-06-04T00:18:57.136Z"
   },
   {
    "duration": 7,
    "start_time": "2023-06-04T00:18:57.188Z"
   },
   {
    "duration": 26,
    "start_time": "2023-06-04T00:18:57.197Z"
   },
   {
    "duration": 13,
    "start_time": "2023-06-04T00:18:57.225Z"
   },
   {
    "duration": 53,
    "start_time": "2023-06-04T00:18:57.241Z"
   },
   {
    "duration": 27,
    "start_time": "2023-06-04T00:18:57.295Z"
   },
   {
    "duration": 29,
    "start_time": "2023-06-04T00:18:57.323Z"
   },
   {
    "duration": 11,
    "start_time": "2023-06-04T00:18:57.354Z"
   },
   {
    "duration": 12,
    "start_time": "2023-06-04T00:18:57.366Z"
   },
   {
    "duration": 10,
    "start_time": "2023-06-04T00:18:57.379Z"
   },
   {
    "duration": 23,
    "start_time": "2023-06-04T00:18:57.391Z"
   },
   {
    "duration": 18,
    "start_time": "2023-06-04T00:18:57.415Z"
   },
   {
    "duration": 12,
    "start_time": "2023-06-04T00:18:57.435Z"
   },
   {
    "duration": 4,
    "start_time": "2023-06-04T00:18:57.448Z"
   },
   {
    "duration": 8,
    "start_time": "2023-06-04T00:18:57.453Z"
   },
   {
    "duration": 12,
    "start_time": "2023-06-04T00:18:57.462Z"
   },
   {
    "duration": 32719,
    "start_time": "2023-06-04T00:18:57.475Z"
   },
   {
    "duration": 15,
    "start_time": "2023-06-04T00:19:30.195Z"
   },
   {
    "duration": 237,
    "start_time": "2023-06-04T00:19:30.211Z"
   },
   {
    "duration": 3,
    "start_time": "2023-06-04T00:19:30.450Z"
   },
   {
    "duration": 45,
    "start_time": "2023-06-04T00:19:30.454Z"
   },
   {
    "duration": 62,
    "start_time": "2023-06-04T00:19:30.500Z"
   },
   {
    "duration": 96,
    "start_time": "2023-06-04T00:19:30.564Z"
   },
   {
    "duration": 55,
    "start_time": "2023-06-04T00:19:30.661Z"
   },
   {
    "duration": 50,
    "start_time": "2023-06-04T00:19:30.717Z"
   },
   {
    "duration": 0,
    "start_time": "2023-06-04T00:19:30.768Z"
   },
   {
    "duration": 0,
    "start_time": "2023-06-04T00:19:30.770Z"
   },
   {
    "duration": 0,
    "start_time": "2023-06-04T00:19:30.771Z"
   },
   {
    "duration": 0,
    "start_time": "2023-06-04T00:19:30.772Z"
   },
   {
    "duration": 59,
    "start_time": "2023-06-04T00:23:30.533Z"
   },
   {
    "duration": 4,
    "start_time": "2023-06-04T00:23:35.174Z"
   },
   {
    "duration": 5,
    "start_time": "2023-06-04T00:34:07.039Z"
   },
   {
    "duration": 3,
    "start_time": "2023-06-04T00:34:09.582Z"
   },
   {
    "duration": 10,
    "start_time": "2023-06-04T00:34:13.641Z"
   },
   {
    "duration": 5,
    "start_time": "2023-06-04T00:34:31.689Z"
   },
   {
    "duration": 64,
    "start_time": "2023-06-04T00:34:45.395Z"
   },
   {
    "duration": 60,
    "start_time": "2023-06-04T00:35:00.784Z"
   },
   {
    "duration": 3,
    "start_time": "2023-06-04T00:35:07.485Z"
   },
   {
    "duration": 10,
    "start_time": "2023-06-04T00:35:10.216Z"
   },
   {
    "duration": 28,
    "start_time": "2023-06-04T00:39:31.550Z"
   },
   {
    "duration": 9,
    "start_time": "2023-06-04T00:39:39.032Z"
   },
   {
    "duration": 9,
    "start_time": "2023-06-04T00:40:30.447Z"
   },
   {
    "duration": 9,
    "start_time": "2023-06-04T00:40:35.164Z"
   },
   {
    "duration": 9,
    "start_time": "2023-06-04T00:40:39.330Z"
   },
   {
    "duration": 17,
    "start_time": "2023-06-04T00:40:41.040Z"
   },
   {
    "duration": 9,
    "start_time": "2023-06-04T00:40:42.306Z"
   },
   {
    "duration": 60,
    "start_time": "2023-06-04T00:41:03.155Z"
   },
   {
    "duration": 10,
    "start_time": "2023-06-04T00:41:05.056Z"
   },
   {
    "duration": 21,
    "start_time": "2023-06-04T00:41:10.051Z"
   },
   {
    "duration": 10,
    "start_time": "2023-06-04T00:41:11.593Z"
   },
   {
    "duration": 81,
    "start_time": "2023-06-04T00:49:00.883Z"
   },
   {
    "duration": 75,
    "start_time": "2023-06-04T00:53:26.114Z"
   },
   {
    "duration": 81,
    "start_time": "2023-06-04T00:53:31.710Z"
   },
   {
    "duration": 11,
    "start_time": "2023-06-04T01:07:30.589Z"
   },
   {
    "duration": 10,
    "start_time": "2023-06-04T01:07:47.574Z"
   },
   {
    "duration": 9,
    "start_time": "2023-06-04T01:07:54.276Z"
   },
   {
    "duration": 3,
    "start_time": "2023-06-04T01:07:59.158Z"
   },
   {
    "duration": 4,
    "start_time": "2023-06-04T01:08:01.081Z"
   },
   {
    "duration": 32967,
    "start_time": "2023-06-04T01:08:06.351Z"
   },
   {
    "duration": 13,
    "start_time": "2023-06-04T01:08:39.319Z"
   },
   {
    "duration": 201,
    "start_time": "2023-06-04T01:08:39.334Z"
   },
   {
    "duration": 10,
    "start_time": "2023-06-04T01:08:39.537Z"
   },
   {
    "duration": 2066,
    "start_time": "2023-06-15T16:48:39.767Z"
   },
   {
    "duration": 100,
    "start_time": "2023-06-15T16:48:41.836Z"
   },
   {
    "duration": 24,
    "start_time": "2023-06-15T16:48:41.938Z"
   },
   {
    "duration": 61,
    "start_time": "2023-06-15T16:48:41.966Z"
   },
   {
    "duration": 57,
    "start_time": "2023-06-15T16:48:42.030Z"
   },
   {
    "duration": 32,
    "start_time": "2023-06-15T16:48:42.089Z"
   },
   {
    "duration": 8,
    "start_time": "2023-06-15T16:48:42.126Z"
   },
   {
    "duration": 14,
    "start_time": "2023-06-15T16:48:42.136Z"
   },
   {
    "duration": 20,
    "start_time": "2023-06-15T16:48:42.152Z"
   },
   {
    "duration": 29,
    "start_time": "2023-06-15T16:48:42.176Z"
   },
   {
    "duration": 46,
    "start_time": "2023-06-15T16:48:42.207Z"
   },
   {
    "duration": 6,
    "start_time": "2023-06-15T16:48:42.255Z"
   },
   {
    "duration": 11,
    "start_time": "2023-06-15T16:48:42.263Z"
   },
   {
    "duration": 15,
    "start_time": "2023-06-15T16:48:42.276Z"
   },
   {
    "duration": 42,
    "start_time": "2023-06-15T16:48:42.293Z"
   },
   {
    "duration": 32,
    "start_time": "2023-06-15T16:48:42.337Z"
   },
   {
    "duration": 22,
    "start_time": "2023-06-15T16:48:42.372Z"
   },
   {
    "duration": 35,
    "start_time": "2023-06-15T16:48:42.397Z"
   },
   {
    "duration": 12,
    "start_time": "2023-06-15T16:48:42.439Z"
   },
   {
    "duration": 21,
    "start_time": "2023-06-15T16:48:42.452Z"
   },
   {
    "duration": 40781,
    "start_time": "2023-06-15T16:48:42.475Z"
   },
   {
    "duration": 86,
    "start_time": "2023-06-15T16:49:23.258Z"
   },
   {
    "duration": 177,
    "start_time": "2023-06-15T16:49:23.409Z"
   },
   {
    "duration": 30,
    "start_time": "2023-06-15T16:49:23.588Z"
   },
   {
    "duration": 48,
    "start_time": "2023-06-15T16:49:23.620Z"
   },
   {
    "duration": 4,
    "start_time": "2023-06-15T16:49:23.670Z"
   },
   {
    "duration": 36,
    "start_time": "2023-06-15T16:49:23.676Z"
   },
   {
    "duration": 142,
    "start_time": "2023-06-15T16:49:23.716Z"
   },
   {
    "duration": 0,
    "start_time": "2023-06-15T16:49:23.860Z"
   },
   {
    "duration": 0,
    "start_time": "2023-06-15T16:49:23.862Z"
   },
   {
    "duration": 1,
    "start_time": "2023-06-15T16:49:23.863Z"
   },
   {
    "duration": 0,
    "start_time": "2023-06-15T16:49:23.865Z"
   },
   {
    "duration": 0,
    "start_time": "2023-06-15T16:49:23.867Z"
   },
   {
    "duration": 0,
    "start_time": "2023-06-15T16:49:23.868Z"
   },
   {
    "duration": 0,
    "start_time": "2023-06-15T16:49:23.870Z"
   },
   {
    "duration": 4,
    "start_time": "2023-06-15T16:56:27.435Z"
   },
   {
    "duration": 23,
    "start_time": "2023-06-15T16:57:06.403Z"
   },
   {
    "duration": 139,
    "start_time": "2023-06-15T17:04:44.937Z"
   },
   {
    "duration": 9,
    "start_time": "2023-06-15T17:06:26.499Z"
   },
   {
    "duration": 12,
    "start_time": "2023-06-15T17:07:04.569Z"
   },
   {
    "duration": 16,
    "start_time": "2023-06-15T17:07:25.099Z"
   },
   {
    "duration": 5,
    "start_time": "2023-06-15T17:12:52.472Z"
   },
   {
    "duration": 20,
    "start_time": "2023-06-15T17:13:09.023Z"
   },
   {
    "duration": 13,
    "start_time": "2023-06-15T17:14:19.364Z"
   },
   {
    "duration": 12,
    "start_time": "2023-06-15T17:14:39.797Z"
   },
   {
    "duration": 14,
    "start_time": "2023-06-15T17:16:31.718Z"
   },
   {
    "duration": 17,
    "start_time": "2023-06-15T17:17:19.225Z"
   },
   {
    "duration": 24,
    "start_time": "2023-06-15T17:17:54.230Z"
   },
   {
    "duration": 18,
    "start_time": "2023-06-15T17:32:49.270Z"
   },
   {
    "duration": 26,
    "start_time": "2023-06-15T17:33:00.970Z"
   },
   {
    "duration": 9,
    "start_time": "2023-06-15T17:37:13.655Z"
   },
   {
    "duration": 24,
    "start_time": "2023-06-15T17:52:58.718Z"
   },
   {
    "duration": 26,
    "start_time": "2023-06-15T17:53:28.648Z"
   },
   {
    "duration": 24,
    "start_time": "2023-06-15T18:01:50.573Z"
   },
   {
    "duration": 21,
    "start_time": "2023-06-15T18:03:16.554Z"
   },
   {
    "duration": 6,
    "start_time": "2023-06-15T18:03:21.668Z"
   },
   {
    "duration": 3,
    "start_time": "2023-06-15T18:04:22.397Z"
   },
   {
    "duration": 12,
    "start_time": "2023-06-15T18:08:11.067Z"
   },
   {
    "duration": 12,
    "start_time": "2023-06-15T18:09:02.848Z"
   },
   {
    "duration": 13,
    "start_time": "2023-06-15T18:09:05.123Z"
   },
   {
    "duration": 3,
    "start_time": "2023-06-15T18:09:15.363Z"
   },
   {
    "duration": 11,
    "start_time": "2023-06-15T18:09:24.837Z"
   },
   {
    "duration": 33,
    "start_time": "2023-06-15T18:09:40.156Z"
   },
   {
    "duration": 24,
    "start_time": "2023-06-15T18:13:07.265Z"
   },
   {
    "duration": 29,
    "start_time": "2023-06-15T18:13:20.223Z"
   },
   {
    "duration": 5,
    "start_time": "2023-06-15T18:16:56.267Z"
   },
   {
    "duration": 5,
    "start_time": "2023-06-15T18:17:20.344Z"
   },
   {
    "duration": 43,
    "start_time": "2023-06-15T18:17:22.427Z"
   },
   {
    "duration": 7,
    "start_time": "2023-06-15T18:25:34.601Z"
   },
   {
    "duration": 7,
    "start_time": "2023-06-15T18:26:25.311Z"
   },
   {
    "duration": 39,
    "start_time": "2023-06-15T18:26:40.751Z"
   },
   {
    "duration": 8,
    "start_time": "2023-06-15T18:27:09.800Z"
   },
   {
    "duration": 71,
    "start_time": "2023-06-15T18:27:13.204Z"
   },
   {
    "duration": 5,
    "start_time": "2023-06-15T18:29:26.487Z"
   },
   {
    "duration": 57,
    "start_time": "2023-06-15T18:29:31.421Z"
   },
   {
    "duration": 7,
    "start_time": "2023-06-15T18:32:44.216Z"
   },
   {
    "duration": 266,
    "start_time": "2023-06-15T18:32:48.644Z"
   },
   {
    "duration": 6,
    "start_time": "2023-06-15T18:33:05.745Z"
   },
   {
    "duration": 291,
    "start_time": "2023-06-15T18:33:08.022Z"
   },
   {
    "duration": 131,
    "start_time": "2023-06-15T18:33:20.999Z"
   },
   {
    "duration": 98,
    "start_time": "2023-06-15T18:33:25.219Z"
   },
   {
    "duration": 6,
    "start_time": "2023-06-15T18:34:15.515Z"
   },
   {
    "duration": 264,
    "start_time": "2023-06-15T18:34:17.152Z"
   },
   {
    "duration": 5,
    "start_time": "2023-06-15T18:34:36.221Z"
   },
   {
    "duration": 283,
    "start_time": "2023-06-15T18:34:38.019Z"
   },
   {
    "duration": 8,
    "start_time": "2023-06-15T18:35:50.428Z"
   }
  ],
  "kernelspec": {
   "display_name": "Python 3 (ipykernel)",
   "language": "python",
   "name": "python3"
  },
  "language_info": {
   "codemirror_mode": {
    "name": "ipython",
    "version": 3
   },
   "file_extension": ".py",
   "mimetype": "text/x-python",
   "name": "python",
   "nbconvert_exporter": "python",
   "pygments_lexer": "ipython3",
   "version": "3.9.5"
  },
  "toc": {
   "base_numbering": 1,
   "nav_menu": {},
   "number_sections": true,
   "sideBar": true,
   "skip_h1_title": true,
   "title_cell": "Содержание",
   "title_sidebar": "Contents",
   "toc_cell": true,
   "toc_position": {
    "height": "calc(100% - 180px)",
    "left": "10px",
    "top": "150px",
    "width": "211.594px"
   },
   "toc_section_display": true,
   "toc_window_display": true
  }
 },
 "nbformat": 4,
 "nbformat_minor": 2
}
